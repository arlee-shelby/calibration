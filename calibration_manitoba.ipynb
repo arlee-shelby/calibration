{
 "cells": [
  {
   "cell_type": "code",
   "execution_count": 1,
   "id": "6692419d-aee7-4235-92e1-2c442cfba633",
   "metadata": {},
   "outputs": [],
   "source": [
    "import numpy as np\n",
    "import matplotlib.pyplot as plt\n",
    "from scipy.optimize import curve_fit\n",
    "from scipy.special import erf\n",
    "import csv\n",
    "import sys\n",
    "sys.path.append('/Users/arleeshelby/ManitobaWork_1374/pyNab/src')\n",
    "import nabPy as Nab"
   ]
  },
  {
   "cell_type": "code",
   "execution_count": 30,
   "id": "9473514c-159a-44cf-b884-a07c0017a82c",
   "metadata": {},
   "outputs": [],
   "source": [
    "runNumber = 1374\n",
    "directory = '/Users/arleeshelby/ManitobaData_1374/'\n",
    "run = Nab.DataRun(directory, runNumber, ignoreEventFile = True)"
   ]
  },
  {
   "cell_type": "code",
   "execution_count": 33,
   "id": "cf780e99-4666-45d0-b1fc-ce3c27cfb811",
   "metadata": {},
   "outputs": [],
   "source": [
    "# run.singleWaves().resetCuts()\n",
    "# run.singleWaves().defineCut('pixel', '=', 76)\n",
    "# results = run.singleWaves().determineEnergyTiming(method='trap', params=[1250, 50, 1250])"
   ]
  },
  {
   "cell_type": "code",
   "execution_count": 7985,
   "id": "59109233-46d8-4607-b11d-80730537d91c",
   "metadata": {},
   "outputs": [],
   "source": [
    "run.singleWaves().resetCuts()\n",
    "run.singleWaves().defineCut('pixel', '=', 124)\n",
    "results = run.singleWaves().determineEnergyTiming(method='trap', params=[1250, 50, 1250])"
   ]
  },
  {
   "cell_type": "code",
   "execution_count": 7986,
   "id": "56df6283-4a77-4947-a241-9a30fa65aa27",
   "metadata": {},
   "outputs": [],
   "source": [
    "def gaussian(x,*pars):\n",
    "    return pars[0]*np.exp(-1.0 * ((x-pars[1])/pars[2])**2.0)\n",
    "def double_gaus(x,*pars):\n",
    "    return pars[0]*np.exp(-1.0 * ((x-pars[1])/np.abs(pars[2]))**2.0) + (pars[0]*1.137/5.60)*np.exp(-1.0 * ((x-(pars[1]*390.872/387.461))/np.abs(pars[2]))**2.0) \n",
    "\n",
    "def line1(x,*pars):\n",
    "    return pars[0]*x + pars[1]\n",
    "def line2(x,*pars):\n",
    "    return -pars[0]*x + pars[1]\n",
    "def gaus(x,*pars):\n",
    "    offset = pars[-1]\n",
    "    \n",
    "    y = np.zeros(x.shape)\n",
    "    \n",
    "    gaus_loc = np.logical_and(x>pars[1]-pars[2],x<(pars[4]*390.872/387.461)+pars[5])\n",
    "    y[x<pars[1]-pars[2]] = line1(x[x<pars[1]-pars[2]],*pars[6:8])\n",
    "    y[x>(pars[4]*390.872/387.461)+pars[5]] = line2(x[x>(pars[4]*390.872/387.461)+pars[5]],*pars[7:9])\n",
    "    y[gaus_loc] = (line2(x[gaus_loc],*pars[7:9])-line1(x[gaus_loc],*pars[6:8]))/len(gaus_loc)\n",
    "    # y[gaus_loc] = line3(x[gaus_loc],*pars)\n",
    "    \n",
    "    \n",
    "#     gaus_loc_1 = np.logical_and(x<pars[1]+pars[2],x>pars[1]-pars[2])\n",
    "#     gaus_loc_2 = np.logical_and(x<pars[4]-pars[5],x>pars[1]+pars[2])\n",
    "#     gaus_loc_3 = np.logical_and(x<(pars[4]*390.872/387.461)+pars[5],x>pars[4]-pars[5])\n",
    "    \n",
    "#     y[x<pars[1]-pars[2]] = line1(x[x<pars[1]-pars[2]],*pars)\n",
    "\n",
    "#     y[gaus_loc_2] = line2(x[gaus_loc_2],*pars)/len(gaus_loc_2)\n",
    "#     y[x>(pars[4]*390.872/387.461)+pars[5]] = line3(x[x>(pars[4]*390.872/387.461)+pars[5]],*pars)\n",
    "#     y[gaus_loc_1] = (line2(x[gaus_loc_1],*pars)-line1(x[gaus_loc_1],*pars))/len(gaus_loc_1)\n",
    "    \n",
    "#     y[gaus_loc_3] = (line3(x[gaus_loc_3],*pars)-line2(x[gaus_loc_3],*pars))/len(gaus_loc_3)\n",
    "    \n",
    "    # y[gaus_loc] = ((line2(x[x>pars[1]+pars[2]],*pars)[0]-line1(x[x<pars[1]-pars[2]],*pars)[-1])/(2*pars[2]))*(x[gaus_loc]-pars[1])\n",
    "    # y[x>=pars[1]-pars[2]] = (line1(x,*pars)-line2(x,*pars))/(2*pars[2])\n",
    "   \n",
    "    # y[x>pars[4]+pars[2]] = line2(x,*pars)\n",
    "    \n",
    "    # gaus = gaussian(x,*pars[0:3]) + offset\n",
    "    # y[x>=pars[4]-pars[2]] = (line2(x[x>=pars[4]-pars[2]],*pars)-line3(x[x>=pars[4]-pars[2]],*pars))/(2*pars[2])\n",
    "    # y[x>pars[4]+pars[2]] = line3(x[x>pars[4]+pars[2]],*pars)\n",
    "    \n",
    "    gaus = double_gaus(x,*pars[3:6])+ gaussian(x,*pars[0:3]) + offset\n",
    "    \n",
    "    \n",
    "    return gaus +y"
   ]
  },
  {
   "cell_type": "code",
   "execution_count": 7987,
   "id": "df692fcd-22b5-4c9d-a22a-95ceb6abf91c",
   "metadata": {},
   "outputs": [],
   "source": [
    "# min = 2\n",
    "histogram, bin_edges = Nab.np.histogram(results.data()['energy'], bins = Nab.np.arange(611, 700))\n",
    "peak = max(histogram)\n",
    "cent = list(histogram).index(max(histogram))+610\n",
    "histogram, bin_edges = Nab.np.histogram(results.data()['energy'], bins = Nab.np.arange(300, 1400))\n",
    "# 800 for the upper limit with both peaks \n",
    "#622 for only one peak\n",
    "width = bin_edges[1]-bin_edges[0]"
   ]
  },
  {
   "cell_type": "code",
   "execution_count": 7988,
   "id": "129e6a3e-227c-47a4-8e0f-da58a75df383",
   "metadata": {},
   "outputs": [],
   "source": [
    "parameters, errors = curve_fit(gaus, bin_edges[:-1]+width/2, histogram,p0 = [60,598,3,peak,cent,3,2,1e-8,1,1])"
   ]
  },
  {
   "cell_type": "code",
   "execution_count": 7989,
   "id": "131d0fe1-f340-4028-953c-1b77b8ca5f4f",
   "metadata": {},
   "outputs": [],
   "source": [
    "chi2 = sum((histogram-gaus(bin_edges[:-1]+width/2,*parameters))**2)/(len(bin_edges[:-1]+width/2)-len(parameters))"
   ]
  },
  {
   "cell_type": "code",
   "execution_count": 7990,
   "id": "f656cd28-1bec-40b4-927d-c4e104a6aff2",
   "metadata": {},
   "outputs": [
    {
     "data": {
      "text/plain": [
       "637"
      ]
     },
     "execution_count": 7990,
     "metadata": {},
     "output_type": "execute_result"
    }
   ],
   "source": [
    "cent"
   ]
  },
  {
   "cell_type": "code",
   "execution_count": 7991,
   "id": "c7773774-cd08-469f-8aed-6cfe8ab2efb7",
   "metadata": {},
   "outputs": [
    {
     "data": {
      "image/png": "[encoded data removed]",
      "text/plain": [
       "<Figure size 640x480 with 1 Axes>"
      ]
     },
     "metadata": {},
     "output_type": "display_data"
    }
   ],
   "source": [
    "x = np.arange(500, 900)\n",
    "plt.plot(x,gaus(x,*parameters))\n",
    "\n",
    "plt.hist(results.data()['energy'],bins=Nab.np.arange(500, 700))\n",
    "\n",
    "# y = parameters[3]*(x[x<parameters[1]-parameters[2]]-parameters[1])+parameters[4]\n",
    "# y2 = parameters[5]*(x[x>parameters[1]+parameters[2]]-parameters[1])+parameters[6]\n",
    "# y3 = parameters[0]*np.exp(-1* ((x-parameters[1])/parameters[2])**2) + parameters[-1]\n",
    "# plt.plot(x[x<parameters[1]-parameters[2]],y)\n",
    "# plt.plot(x[x>parameters[1]+parameters[2]],y2)\n",
    "# plt.plot(x,y3)\n",
    "# plt.ylim(0,10)\n",
    "# plt.yscale('log')\n",
    "plt.show()"
   ]
  },
  {
   "cell_type": "code",
   "execution_count": 7992,
   "id": "18cf5719-571c-448b-9574-24f235725c25",
   "metadata": {},
   "outputs": [
    {
     "data": {
      "text/plain": [
       "645.8278690108621"
      ]
     },
     "execution_count": 7992,
     "metadata": {},
     "output_type": "execute_result"
    }
   ],
   "source": [
    "(parameters[4]*390.872/387.461)"
   ]
  },
  {
   "cell_type": "code",
   "execution_count": 7993,
   "id": "48dfe8a4-c3ed-478b-bad4-10eb1c020366",
   "metadata": {},
   "outputs": [
    {
     "data": {
      "text/plain": [
       "(600.9719799173747, 640.1919604239179)"
      ]
     },
     "execution_count": 7993,
     "metadata": {},
     "output_type": "execute_result"
    }
   ],
   "source": [
    "parameters[1],parameters[4]"
   ]
  },
  {
   "cell_type": "code",
   "execution_count": 7994,
   "id": "33d19ecb-37f9-48b4-920b-73a22c0256d4",
   "metadata": {},
   "outputs": [
    {
     "data": {
      "text/plain": [
       "0.8864526787452277"
      ]
     },
     "execution_count": 7994,
     "metadata": {},
     "output_type": "execute_result"
    }
   ],
   "source": [
    "(parameters[3]*1.137/5.60)"
   ]
  },
  {
   "cell_type": "code",
   "execution_count": 7995,
   "id": "c82b73a7-788e-4c92-a209-0f1a47183e3b",
   "metadata": {},
   "outputs": [
    {
     "data": {
      "text/plain": [
       "4.365993844303672"
      ]
     },
     "execution_count": 7995,
     "metadata": {},
     "output_type": "execute_result"
    }
   ],
   "source": [
    "parameters[3]"
   ]
  },
  {
   "cell_type": "code",
   "execution_count": 7996,
   "id": "798088aa-f8ad-4517-8b8c-f2bd8f3b4233",
   "metadata": {},
   "outputs": [],
   "source": [
    "def poly(x,*pars):\n",
    "    return (pars[0] + pars[1]*x +pars[2]*x**2)\n",
    "def gaussian(x,*pars):\n",
    "    return pars[0]*np.exp(-1.0 * ((x-pars[1])/pars[2])**2.0)\n",
    "\n",
    "def threshold(x,*pars):\n",
    "    return pars[0]*np.exp(-1.0 * ((x)/pars[2])**2.0)\n",
    "\n",
    "def double_gaus(x,*pars):\n",
    "    return pars[0]*np.exp(-1.0 * ((x-pars[1])/np.abs(pars[2]))**2.0) + (pars[0]*16.05/79.8)*np.exp(-1.0 * ((x-(pars[1]*27.3523/22.59))/np.abs(pars[2]))**2.0) \n",
    "\n",
    "def multi_gaus(x, *pars):\n",
    "    num_gaus = int((len(pars))/3)\n",
    "    # print(pars)\n",
    "    if num_gaus==2:\n",
    "        g = threshold(x,*pars[0:3]) + double_gaus(x,*pars[3:6])\n",
    "    if num_gaus==3:\n",
    "        g = threshold(x,*pars[0:3]) + double_gaus(x,*pars[3:6]) + gaussian(x,*pars[6:9])\n",
    "    if num_gaus==4:\n",
    "        g = threshold(x,*pars[0:3]) + double_gaus(x,*pars[3:6]) + gaussian(x,*pars[6:9]) + gaussian(x,*pars[9:12])\n",
    "    \n",
    "    offset = pars[-1]\n",
    "    return g + offset\n",
    "\n",
    "def gaus_poly(x,*pars):\n",
    "    list_pars = pars[0]\n",
    "    return multi_gaus(x,*pars[0:-3])+poly(x,*pars[-3:])"
   ]
  },
  {
   "cell_type": "code",
   "execution_count": 7997,
   "id": "5896c888-f0d3-4f01-a02f-2455c3e260bc",
   "metadata": {},
   "outputs": [],
   "source": [
    "histogram_lower, bin_edges_lower = Nab.np.histogram(results.data()['energy'], bins = Nab.np.arange(0, 150))\n",
    "thresh_start = list(histogram_lower).index(max(histogram_lower))\n",
    "\n",
    "histogram_lower, bin_edges_lower = Nab.np.histogram(results.data()['energy'], bins = Nab.np.arange(27, 50))\n",
    "xray_peak = max(histogram_lower)\n",
    "xray_cent = list(histogram_lower).index(max(histogram_lower))+27\n",
    "\n",
    "histogram_lower,bin_edges_lower = Nab.np.histogram(results.data()['energy'], bins = Nab.np.arange(thresh_start, 200))\n",
    "width_lower = bin_edges_lower[1]-bin_edges_lower[0]"
   ]
  },
  {
   "cell_type": "code",
   "execution_count": 7998,
   "id": "f9d27e25-fe04-4d78-b3c7-78ab0712e2cb",
   "metadata": {},
   "outputs": [
    {
     "data": {
      "text/plain": [
       "5"
      ]
     },
     "execution_count": 7998,
     "metadata": {},
     "output_type": "execute_result"
    }
   ],
   "source": [
    "thresh_start"
   ]
  },
  {
   "cell_type": "code",
   "execution_count": 8009,
   "id": "56039eaa-753f-4abd-bf95-13b97716ff0d",
   "metadata": {},
   "outputs": [],
   "source": [
    "parameters_lower, errors_lower = curve_fit(gaus_poly, bin_edges_lower[:-1]+width_lower/2, histogram_lower,\n",
    "                                               p0 = [100000,0,thresh_start+4,xray_peak,xray_cent,5,600,thresh_start+4,4.41,300,22,6,300,5,3,3])\n",
    "\n"
   ]
  },
  {
   "cell_type": "code",
   "execution_count": 8010,
   "id": "c5edb2d2-d665-4ceb-b09b-0e0fa7fc0f50",
   "metadata": {},
   "outputs": [],
   "source": [
    "# parameters, errors = curve_fit(gaus, bin_edges[:-1]+width/2, histogram,p0 = [60,598,3,peak,cent,3,3,0,1e-8,2,1,1])\n",
    "\n",
    "#[60,598,10,8,645,1,5,640,1e-7,-5,20]\n",
    "# 10,645,5 for the initial guess for the second peak\n",
    "\n",
    "# parameters_lower, errors_lower = curve_fit(gaus_poly, bin_edges_lower[:-1]+width_lower/2, histogram_lower,\n",
    "#                                                p0 = [100000,0,thresh_start+4,xray_peak,xray_cent+2,4,xray_peak,xray_cent-2,600,thresh_start+4,4,100,22,5,40,5,3,3])\n",
    "\n",
    "#200,20,5,\n",
    "\n",
    "\n",
    "#300,thresh_start+4,3"
   ]
  },
  {
   "cell_type": "code",
   "execution_count": 8011,
   "id": "72e83021-b2b1-44a6-88f2-c1a550b33b13",
   "metadata": {},
   "outputs": [],
   "source": [
    "chi2_lower = sum((histogram_lower-gaus_poly(bin_edges_lower[:-1]+width_lower/2,*parameters_lower))**2)/(len(bin_edges_lower[:-1]+width_lower/2)-len(parameters_lower))"
   ]
  },
  {
   "cell_type": "code",
   "execution_count": 8012,
   "id": "75910084-f0c9-4382-9804-fd35c8c8a4cb",
   "metadata": {},
   "outputs": [
    {
     "data": {
      "text/plain": [
       "array([ 5.40580345e+02,  0.00000000e+00,  1.13761564e+01,  8.89814243e+01,\n",
       "        3.96143969e+01,  5.97556824e+00,  4.31142599e+01,  2.41712249e+01,\n",
       "        4.11498379e+00, -1.99563089e+02,  9.51534676e+00, -1.91933712e+00,\n",
       "       -3.98649909e+06,  3.98650567e+06, -6.13913008e-03, -1.16903582e-04])"
      ]
     },
     "execution_count": 8012,
     "metadata": {},
     "output_type": "execute_result"
    }
   ],
   "source": [
    "parameters_lower"
   ]
  },
  {
   "cell_type": "code",
   "execution_count": 8013,
   "id": "7e4a6593-e82d-4a05-a9a3-27e99398a65c",
   "metadata": {},
   "outputs": [
    {
     "data": {
      "text/plain": [
       "(0.0, 39.6143969064518, 24.171224900819833, 9.515346756080714)"
      ]
     },
     "execution_count": 8013,
     "metadata": {},
     "output_type": "execute_result"
    }
   ],
   "source": [
    "parameters_lower[1],parameters_lower[4],parameters_lower[7],parameters_lower[10]"
   ]
  },
  {
   "cell_type": "code",
   "execution_count": 8014,
   "id": "58d5b1d1-9334-47fd-b822-1f2016e0820f",
   "metadata": {},
   "outputs": [
    {
     "data": {
      "image/png": "[encoded data removed]",
      "text/plain": [
       "<Figure size 640x480 with 1 Axes>"
      ]
     },
     "metadata": {},
     "output_type": "display_data"
    }
   ],
   "source": [
    "x_lower = np.arange(0,80,0.1)\n",
    "plt.plot(x_lower,gaus_poly(x_lower,*parameters_lower))\n",
    "plt.hist(results.data()['energy'],bins=Nab.np.arange(0, 80))\n",
    "\n",
    "\n",
    "plt.ylim(0,500)\n",
    "# plt.yscale('log')\n",
    "plt.show()"
   ]
  },
  {
   "cell_type": "code",
   "execution_count": 8015,
   "id": "ad63aaee-441e-4035-b14d-edb3d6958414",
   "metadata": {},
   "outputs": [
    {
     "name": "stdout",
     "output_type": "stream",
     "text": [
      "0.636305647081688 27.097400627947195\n"
     ]
    }
   ],
   "source": [
    "print(chi2,chi2_lower)"
   ]
  },
  {
   "cell_type": "code",
   "execution_count": 8016,
   "id": "ece51e0b-5798-4338-94ea-fa4f3c9f036b",
   "metadata": {},
   "outputs": [
    {
     "data": {
      "text/plain": [
       "47.96568696345027"
      ]
     },
     "execution_count": 8016,
     "metadata": {},
     "output_type": "execute_result"
    }
   ],
   "source": [
    "(parameters_lower[4]*27.3523/22.59)"
   ]
  },
  {
   "cell_type": "code",
   "execution_count": 8017,
   "id": "b18cdb18-0325-4fce-aee5-c58d9ef9be00",
   "metadata": {},
   "outputs": [
    {
     "data": {
      "text/plain": [
       "88.98142430565393"
      ]
     },
     "execution_count": 8017,
     "metadata": {},
     "output_type": "execute_result"
    }
   ],
   "source": [
    "parameters_lower[3]"
   ]
  },
  {
   "cell_type": "code",
   "execution_count": 8008,
   "id": "68f284fe-f4e6-4e49-9271-e69fdf48f4a4",
   "metadata": {},
   "outputs": [
    {
     "data": {
      "text/plain": [
       "17.743979391790102"
      ]
     },
     "execution_count": 8008,
     "metadata": {},
     "output_type": "execute_result"
    }
   ],
   "source": [
    "(parameters_lower[3]*16.05/79.8)"
   ]
  },
  {
   "cell_type": "code",
   "execution_count": 7121,
   "id": "784f9d4a-4d15-47ae-90bd-fca17bfdd041",
   "metadata": {},
   "outputs": [
    {
     "data": {
      "text/plain": [
       "(600.7204460402887, 641.653321997886)"
      ]
     },
     "execution_count": 7121,
     "metadata": {},
     "output_type": "execute_result"
    }
   ],
   "source": [
    "parameters[1],parameters[4]"
   ]
  },
  {
   "cell_type": "code",
   "execution_count": 6107,
   "id": "df5b0d17-b16b-4749-9b4b-8d060ea843de",
   "metadata": {},
   "outputs": [],
   "source": [
    "# x = [parameters_lower[4],(parameters_lower[4]*27.3523/22.59),parameters[1],parameters[4],(parameters[4]*390.872/387.461)]\n",
    "# y = [22.59,27.352,363.758,387.461,390.872]\n",
    "# a, b, c = np.polyfit(y, x, deg=2)"
   ]
  },
  {
   "cell_type": "code",
   "execution_count": 7430,
   "id": "4ef447d1-6335-4f0a-b444-a42f2b962219",
   "metadata": {},
   "outputs": [],
   "source": [
    "# x_plot = np.arange(0,500)\n",
    "# plt.scatter(y,x,marker = '.')\n",
    "# plt.plot(x_plot,a*x_plot**2 + b*x_plot +c, linestyle = ':',color = 'black')\n",
    "\n",
    "# plt.show()"
   ]
  },
  {
   "cell_type": "code",
   "execution_count": 7431,
   "id": "0f3ab876-ede0-4f34-abf1-7452689e72a8",
   "metadata": {},
   "outputs": [],
   "source": [
    "# a,b,c"
   ]
  },
  {
   "cell_type": "code",
   "execution_count": 7432,
   "id": "ed8b6b14-3ada-430c-bf72-0460c0895db5",
   "metadata": {},
   "outputs": [],
   "source": [
    "# parameters"
   ]
  },
  {
   "cell_type": "code",
   "execution_count": 7433,
   "id": "294bb4ae-a078-4558-acf1-1a3bc0bc774b",
   "metadata": {},
   "outputs": [],
   "source": [
    "# parameters[2],parameters[5]"
   ]
  },
  {
   "cell_type": "code",
   "execution_count": 7434,
   "id": "26b3b1c1-4223-4291-89af-467e060fd6ab",
   "metadata": {},
   "outputs": [],
   "source": [
    "# parameters_lower[2],parameters_lower[5]"
   ]
  },
  {
   "cell_type": "code",
   "execution_count": 7435,
   "id": "659a39ce-5fc8-4afc-9f1a-2f2934dfd44a",
   "metadata": {},
   "outputs": [],
   "source": [
    "# sig = [parameters_lower[5],parameters[2],parameters[5]]\n",
    "# en = [parameters_lower[1],parameters[1],parameters[4]]"
   ]
  },
  {
   "cell_type": "code",
   "execution_count": 7436,
   "id": "022ad932-7061-41e0-88b7-c117f796f33a",
   "metadata": {},
   "outputs": [],
   "source": [
    "# a, b,c = np.polyfit(en,sig, deg=2)\n",
    "# x = np.linspace(0,700)"
   ]
  },
  {
   "cell_type": "code",
   "execution_count": 7437,
   "id": "5b4cd579-952e-4394-8245-21238d32e332",
   "metadata": {},
   "outputs": [],
   "source": [
    "# plt.scatter(en,sig,marker = '.')\n",
    "# plt.plot(x,a*x**2 + b*x +c, linestyle = ':',color = 'black')\n",
    "# plt.show()"
   ]
  },
  {
   "cell_type": "code",
   "execution_count": null,
   "id": "cc9fca94-acc5-478c-ad3e-c5cab361af8f",
   "metadata": {},
   "outputs": [],
   "source": []
  },
  {
   "cell_type": "code",
   "execution_count": null,
   "id": "27172c42-f96c-471f-85c4-8a0edaf918a2",
   "metadata": {},
   "outputs": [],
   "source": []
  },
  {
   "cell_type": "code",
   "execution_count": null,
   "id": "d3adf87f-f649-494e-a8ee-ff2deb222d1c",
   "metadata": {},
   "outputs": [],
   "source": []
  },
  {
   "cell_type": "code",
   "execution_count": null,
   "id": "66ac6cfd-9d48-43af-bf2f-dde53cd707f8",
   "metadata": {},
   "outputs": [],
   "source": []
  },
  {
   "cell_type": "code",
   "execution_count": null,
   "id": "2bdf7e94-233f-472d-b64f-95471cac5477",
   "metadata": {},
   "outputs": [],
   "source": []
  },
  {
   "cell_type": "code",
   "execution_count": null,
   "id": "ec0addf7-6250-4132-9d7f-f7365b9e8eea",
   "metadata": {},
   "outputs": [],
   "source": []
  },
  {
   "cell_type": "code",
   "execution_count": null,
   "id": "a5f7ba9e-493c-498b-884c-0e25e5421cf7",
   "metadata": {},
   "outputs": [],
   "source": []
  },
  {
   "cell_type": "code",
   "execution_count": 7438,
   "id": "624b0df3-f4d2-432a-93d8-3d6db077e4c4",
   "metadata": {},
   "outputs": [],
   "source": [
    "# def gaussian(x,*pars):\n",
    "#     return pars[0]*np.exp(-1.0 * ((x-ecap_high)/pars[2])**2.0)\n",
    "\n",
    "# def double_gaus(x,*pars):\n",
    "#     return pars[0]*np.exp(-1.0 * ((x-ecap_low1)/pars[2])**2.0) + (pars[0]*1.37/5.60)*np.exp(-1.0 * ((x-ecap_low2)/pars[2])**2.0)\n",
    "\n",
    "# def gaus(x,*pars):\n",
    "#     offset = pars[-1]\n",
    "    \n",
    "    \n",
    "#     y = np.zeros(x.shape)\n",
    "    \n",
    "    \n",
    "#     gaus_loc = np.logical_and(x>pars[1]-pars[2],x<pars[7]+pars[5])\n",
    "#     y[x<pars[1]-pars[2]] = line1(x[x<pars[1]-pars[2]],*pars)\n",
    "#     y[x>pars[7]+pars[5]] = line2(x[x>pars[7]+pars[5]],*pars)\n",
    "#     y[gaus_loc] = (line2(x[gaus_loc],*pars)-line1(x[gaus_loc],*pars))/len(gaus_loc)\n",
    "    \n",
    "    \n",
    "    \n",
    "#     # gaus_loc = np.logical_and(x<pars[1]+pars[2],x>pars[1]-pars[2])\n",
    "# #     gaus_loc = np.logical_and(x>cent_1-pars[2],x<cent_3+pars[5])\n",
    "    \n",
    "# #     y[x<cent_1-pars[2]] = line1(x[x<cent_1-pars[2]],*pars)\n",
    "# #     y[x>cent_3+pars[5]] = line2(x[x>cent_3+pars[5]],*pars)\n",
    "# #     # y[x<pars[1]-pars[2]] = line1(x,*pars)[x]\n",
    "# #     y[gaus_loc] = (line2(x[gaus_loc],*pars)-line1(x[gaus_loc],*pars))/len(gaus_loc)\n",
    "#     # y[gaus_loc] = ((line2(x[x>pars[1]+pars[2]],*pars)[0]-line1(x[x<pars[1]-pars[2]],*pars)[-1])/(2*pars[2]))*(x[gaus_loc]-pars[1])\n",
    "#     # y[x>=pars[1]-pars[2]] = (line1(x,*pars)-line2(x,*pars))/(2*pars[2])\n",
    "   \n",
    "#     # y[x>pars[4]+pars[2]] = line2(x,*pars)\n",
    "    \n",
    "#     # gaus = gaussian(x,*pars[0:3]) + offset\n",
    "#     # y[x>=pars[4]-pars[2]] = (line2(x[x>=pars[4]-pars[2]],*pars)-line3(x[x>=pars[4]-pars[2]],*pars))/(2*pars[2])\n",
    "#     # y[x>pars[4]+pars[2]] = line3(x[x>pars[4]+pars[2]],*pars)\n",
    "    \n",
    "    \n",
    "# #     gaus_loc_1 = np.logical_and(x<pars[1]+pars[2],x>pars[1]-pars[2])\n",
    "# #     gaus_loc_2 = np.logical_and(x<pars[4]-pars[5],x>pars[1]+pars[2])\n",
    "# #     gaus_loc_3 = np.logical_and(x<pars[7]+pars[5],x>pars[4]-pars[5])\n",
    "    \n",
    "# #     y[x<pars[1]-pars[2]] = line1(x[x<pars[1]-pars[2]],*pars)\n",
    "# #     y[gaus_loc_2] = line2(x[gaus_loc_2],*pars)/len(gaus_loc_2)\n",
    "# #     y[x>pars[7]+pars[5]] = line3(x[x>pars[7]+pars[5]],*pars)\n",
    "# #     y[gaus_loc_1] = (line2(x[gaus_loc_1],*pars)-line1(x[gaus_loc_1],*pars))/len(gaus_loc_1)\n",
    "    \n",
    "# #     y[gaus_loc_3] = (line3(x[gaus_loc_3],*pars)-line2(x[gaus_loc_3],*pars))/len(gaus_loc_3)\n",
    "    \n",
    "#     gaus = double_gaus(x,*pars[3:8])+ gaussian (x,*pars[0:3]) +offset\n",
    "    \n",
    "    \n",
    "#     return y + gaus"
   ]
  },
  {
   "cell_type": "code",
   "execution_count": 7439,
   "id": "24dfabea-ef49-43d3-a7aa-da22b6629656",
   "metadata": {},
   "outputs": [],
   "source": [
    "# parameters, errors = curve_fit(gaus, bin_edges[:-1]+width/2, histogram,p0 = [50,598,10,10,645,7,3,640,1e-7,7,3,10])"
   ]
  },
  {
   "cell_type": "code",
   "execution_count": 7440,
   "id": "2002d832-0746-4ead-98cc-8e19e29d9f94",
   "metadata": {},
   "outputs": [],
   "source": [
    "# x = np.arange(500, 800,0.1)\n",
    "# plt.plot(x,gaus(x,*parameters))\n",
    "# plt.hist(results.data()['energy'],bins=Nab.np.arange(500, 800))\n",
    "# # y = parameters[3]*(x[x<parameters[1]-parameters[2]]-parameters[1])+parameters[4]\n",
    "# # y2 = parameters[5]*(x[x>parameters[1]+parameters[2]]-parameters[1])+parameters[6]\n",
    "# # y3 = parameters[0]*np.exp(-1* ((x-parameters[1])/parameters[2])**2) + parameters[-1]\n",
    "# # plt.plot(x[x<parameters[1]-parameters[2]],y)\n",
    "# # plt.plot(x[x>parameters[1]+parameters[2]],y2)\n",
    "# # plt.plot(x,y3)\n",
    "# # plt.ylim(0,10)\n",
    "# # plt.yscale('log')\n",
    "# plt.show()"
   ]
  },
  {
   "cell_type": "code",
   "execution_count": 7441,
   "id": "9ee45c7f-eb13-4d29-80d9-2377c823583f",
   "metadata": {},
   "outputs": [],
   "source": [
    "# parameters"
   ]
  },
  {
   "cell_type": "code",
   "execution_count": 7442,
   "id": "de3693a0-cdb1-4f36-9af9-381cc602fc7f",
   "metadata": {},
   "outputs": [],
   "source": [
    "# def poly(x,*pars):\n",
    "#     return (pars[0] + pars[1]*x +pars[2]*x**2)\n",
    "# def gaussian(x,*pars):\n",
    "#     return pars[0]*np.exp(-1.0 * ((x-pars[1])/pars[2])**2.0)\n",
    "# def threshold(x,*pars):\n",
    "#     return pars[0]*np.exp(-1.0 * ((x)/pars[2])**2.0)\n",
    "# def double_gaus(x,*pars):\n",
    "#     return pars[0]*np.exp(-1.0 * ((x-xray_high)/pars[2])**2.0) + pars[3]*np.exp(-1.0 * ((x-xray_low)/pars[2])**2.0)\n",
    "# def multi_gaus(x, *pars):\n",
    "#     num_gaus = int((len(pars))/3)\n",
    "#     # print(pars)\n",
    "#     if num_gaus==3:\n",
    "#         g = threshold(x,*pars[0:3]) + double_gaus(x,*pars[3:8])\n",
    "#     if num_gaus==4:\n",
    "#         g = threshold(x,*pars[0:3]) + double_gaus(x,*pars[3:8]) + gaussian(x,*pars[8:11])\n",
    "#     if num_gaus==5:\n",
    "#         g = threshold(x,*pars[0:3]) + double_gaus(x,*pars[3:8]) + gaussian(x,*pars[8:11]) + gaussian(x,*pars[11:14])\n",
    "    \n",
    "#     offset = pars[-1]\n",
    "#     return g + offset\n",
    "# def gaus_poly(x,*pars):\n",
    "#     list_pars = pars[0]\n",
    "#     return multi_gaus(x,*pars[0:-3])+poly(x,*pars[-3:])"
   ]
  },
  {
   "cell_type": "code",
   "execution_count": 7443,
   "id": "e8ee372d-8f90-4d01-b754-420521678ba4",
   "metadata": {},
   "outputs": [],
   "source": [
    "# parameters_lower, errors_lower = curve_fit(gaus_poly, bin_edges_lower[:-1]+width_lower/2, histogram_lower,\n",
    "#                                            p0 = [100000,0,thresh_start+4,xray_peak,xray_cent+2,4,xray_peak,xray_cent-2,600,thresh_start+4,4,100,22,5,40,5,3,3])\n",
    "                                               \n",
    "#                                            #p0 = [100000,0,thresh_start+3,xray_peak,xray_cent+2,7,xray_peak,xray_cent-2,1000,thresh_start+4,2,300,20,10,20,50,30,30])"
   ]
  },
  {
   "cell_type": "code",
   "execution_count": 7718,
   "id": "8d124a93-1ead-4d13-9e1e-0fa53b00780f",
   "metadata": {},
   "outputs": [
    {
     "data": {
      "text/plain": [
       "(0.0,\n",
       " 39.6143969064518,\n",
       " 24.171224900819833,\n",
       " -199.56308906285693,\n",
       " -3986499.08762551)"
      ]
     },
     "execution_count": 7718,
     "metadata": {},
     "output_type": "execute_result"
    }
   ],
   "source": [
    "parameters_lower[1],parameters_lower[4],parameters_lower[7],parameters_lower[9],parameters_lower[12]"
   ]
  },
  {
   "cell_type": "code",
   "execution_count": 7719,
   "id": "64a49c5a-08fb-45b9-90b8-10ac51408a88",
   "metadata": {},
   "outputs": [
    {
     "data": {
      "text/plain": [
       "array([ 5.40580345e+02,  0.00000000e+00,  1.13761564e+01,  8.89814243e+01,\n",
       "        3.96143969e+01,  5.97556824e+00,  4.31142599e+01,  2.41712249e+01,\n",
       "        4.11498379e+00, -1.99563089e+02,  9.51534676e+00, -1.91933712e+00,\n",
       "       -3.98649909e+06,  3.98650567e+06, -6.13913008e-03, -1.16903582e-04])"
      ]
     },
     "execution_count": 7719,
     "metadata": {},
     "output_type": "execute_result"
    }
   ],
   "source": [
    "parameters_lower"
   ]
  },
  {
   "cell_type": "code",
   "execution_count": 7444,
   "id": "cbad64cd-3772-45fe-98e3-8c78c12220a5",
   "metadata": {},
   "outputs": [],
   "source": [
    "# x_lower = np.arange(1,100,0.1)\n",
    "# plt.plot(x_lower,gaus_poly(x_lower,*parameters_lower))\n",
    "# plt.hist(results.data()['energy'],bins=Nab.np.arange(0, 100))\n",
    "\n",
    "\n",
    "# # plt.ylim(0,1000)\n",
    "# # plt.yscale('log')\n",
    "# plt.show()"
   ]
  },
  {
   "cell_type": "code",
   "execution_count": 7155,
   "id": "1381dc5a-05a2-4b2f-8489-e15aede8a541",
   "metadata": {},
   "outputs": [],
   "source": [
    "# path = '/Users/arleeshelby/output.txt'"
   ]
  },
  {
   "cell_type": "code",
   "execution_count": 7156,
   "id": "6bc3128d-bb9e-4ab8-87e1-c78e75e8b00c",
   "metadata": {},
   "outputs": [],
   "source": [
    "# f = open(path)"
   ]
  },
  {
   "cell_type": "code",
   "execution_count": 7157,
   "id": "e007d39d-2094-452a-9b6f-552b43d396c8",
   "metadata": {},
   "outputs": [],
   "source": [
    "# lines = f.readlines()"
   ]
  },
  {
   "cell_type": "code",
   "execution_count": 7158,
   "id": "7af7fbac-ff2a-4c07-a602-3898394cff1e",
   "metadata": {},
   "outputs": [],
   "source": [
    "# a = []\n",
    "# for line in lines:\n",
    "#     a.append(line.replace('\\t',',').splitlines()[0].split(','))"
   ]
  },
  {
   "cell_type": "code",
   "execution_count": 7384,
   "id": "7b8f9984-f617-49e3-95d2-e4ae45f58519",
   "metadata": {},
   "outputs": [],
   "source": [
    "# lines"
   ]
  },
  {
   "cell_type": "code",
   "execution_count": 6797,
   "id": "01087395-1855-417f-b5f6-29667e7a69a0",
   "metadata": {},
   "outputs": [],
   "source": [
    "# df = {}\n",
    "# # df['Run'] = {}\n",
    "# num = []\n",
    "# for i in range(3):\n",
    "#     num.append(i)\n",
    "    \n",
    "# df['Run'] = num\n",
    "# df['ecap'] = b\n",
    "# a = pd.DataFrame(df)"
   ]
  },
  {
   "cell_type": "code",
   "execution_count": 6798,
   "id": "20791a8f-3271-4c0c-8839-e36984fdc660",
   "metadata": {},
   "outputs": [],
   "source": [
    "# a.to_csv('test.csv',mode = 'w',header = True,index = False)"
   ]
  },
  {
   "cell_type": "code",
   "execution_count": 7534,
   "id": "d584804c-e51d-469b-a5a1-77762e003801",
   "metadata": {},
   "outputs": [],
   "source": [
    "with open('/Users/arleeshelby/output.csv') as f:\n",
    "    csv.DictReader(f)\n",
    "    g = pd.read_csv(f)"
   ]
  },
  {
   "cell_type": "code",
   "execution_count": 7732,
   "id": "f9e57c09-b3d6-4789-8b7d-ee70ff1a3f79",
   "metadata": {},
   "outputs": [],
   "source": [
    "g['xray'][18] = parameters_lower.tolist()"
   ]
  },
  {
   "cell_type": "code",
   "execution_count": 7733,
   "id": "28a5c513-4ca3-47ca-a314-060fbe634be5",
   "metadata": {},
   "outputs": [
    {
     "data": {
      "text/plain": [
       "[540.5803446310185,\n",
       " 0.0,\n",
       " 11.376156367567251,\n",
       " 88.98142430565393,\n",
       " 39.6143969064518,\n",
       " 5.975568237616336,\n",
       " 43.11425985432901,\n",
       " 24.171224900819833,\n",
       " 4.114983786718576,\n",
       " -199.56308906285693,\n",
       " 9.515346756080714,\n",
       " -1.9193371210358774,\n",
       " -3986499.08762551,\n",
       " 3986505.6737302365,\n",
       " -0.006139130077508642,\n",
       " -0.00011690358201818842]"
      ]
     },
     "execution_count": 7733,
     "metadata": {},
     "output_type": "execute_result"
    }
   ],
   "source": [
    "g['xray'][18]"
   ]
  },
  {
   "cell_type": "code",
   "execution_count": 7734,
   "id": "51f0d460-2cfd-4dac-ae01-39a44491e234",
   "metadata": {},
   "outputs": [
    {
     "data": {
      "text/plain": [
       "58.83103205233663"
      ]
     },
     "execution_count": 7734,
     "metadata": {},
     "output_type": "execute_result"
    }
   ],
   "source": [
    "np.float_(g['ecap'][0].replace('[','').replace(']','').split(','))[0]"
   ]
  },
  {
   "cell_type": "code",
   "execution_count": 7735,
   "id": "964975bf-307c-4c25-a109-c85754ac6aeb",
   "metadata": {},
   "outputs": [],
   "source": [
    "# g['xray']"
   ]
  },
  {
   "cell_type": "code",
   "execution_count": 7736,
   "id": "20e6251b-83e5-40d1-a940-4458328b697b",
   "metadata": {},
   "outputs": [],
   "source": [
    "names = []\n",
    "for i in range(11):\n",
    "    names.append('p%d'%i)\n",
    "names_x = []\n",
    "for i in range(17):\n",
    "    names_x.append('p%d'%i)"
   ]
  },
  {
   "cell_type": "code",
   "execution_count": 7737,
   "id": "523aac41-c4a8-429f-849f-7211f2c1b5d4",
   "metadata": {},
   "outputs": [],
   "source": [
    "df1 = {}\n",
    "for i in range(10):\n",
    "    df1[names[i]] = {}\n",
    "    for j in range(len(g)):\n",
    "        pars = np.float_(g['ecap'][j].replace('[','').replace(']','').split(','))[i]\n",
    "        df1[names[i]][j] = pars"
   ]
  },
  {
   "cell_type": "code",
   "execution_count": 7741,
   "id": "77b53156-6397-4cd7-8f48-603fdc8fff8c",
   "metadata": {},
   "outputs": [
    {
     "data": {
      "text/plain": [
       "[540.5803446310185,\n",
       " 0.0,\n",
       " 11.376156367567251,\n",
       " 88.98142430565393,\n",
       " 39.6143969064518,\n",
       " 5.975568237616336,\n",
       " 43.11425985432901,\n",
       " 24.171224900819833,\n",
       " 4.114983786718576,\n",
       " -199.56308906285693,\n",
       " 9.515346756080714,\n",
       " -1.9193371210358774,\n",
       " -3986499.08762551,\n",
       " 3986505.6737302365,\n",
       " -0.006139130077508642,\n",
       " -0.00011690358201818842]"
      ]
     },
     "execution_count": 7741,
     "metadata": {},
     "output_type": "execute_result"
    }
   ],
   "source": [
    "g['xray'][18]."
   ]
  },
  {
   "cell_type": "code",
   "execution_count": 7742,
   "id": "c5facc23-b423-45cd-9c53-034cfc1fcd20",
   "metadata": {},
   "outputs": [],
   "source": [
    "df2 = {}\n",
    "for i in range(16):\n",
    "    df2[names_x[i]] = {}\n",
    "    for j in range(len(g)):\n",
    "        if j==18:\n",
    "            # print(j)\n",
    "            pars = np.float_(g['xray'][j])[i]\n",
    "            df2[names_x[i]][j] = pars\n",
    "        else:\n",
    "            pars = np.float_(g['xray'][j].replace('[','').replace(']','').split(','))[i]\n",
    "            df2[names_x[i]][j] = pars\n",
    "            \n",
    "    # j!=7 or j!=8 or j!=11:"
   ]
  },
  {
   "cell_type": "code",
   "execution_count": 7743,
   "id": "4a86c00c-d313-47b8-b69a-234ef7f4fd3f",
   "metadata": {},
   "outputs": [],
   "source": [
    "df_ecap = pd.DataFrame(df1)\n",
    "df_xray = pd.DataFrame(df2)"
   ]
  },
  {
   "cell_type": "code",
   "execution_count": 7948,
   "id": "dfcfd2bb-0b4c-4256-bc39-d5de6a20a6d0",
   "metadata": {},
   "outputs": [
    {
     "data": {
      "text/html": [
       "<div>\n",
       "<style scoped>\n",
       "    .dataframe tbody tr th:only-of-type {\n",
       "        vertical-align: middle;\n",
       "    }\n",
       "\n",
       "    .dataframe tbody tr th {\n",
       "        vertical-align: top;\n",
       "    }\n",
       "\n",
       "    .dataframe thead th {\n",
       "        text-align: right;\n",
       "    }\n",
       "</style>\n",
       "<table border=\"1\" class=\"dataframe\">\n",
       "  <thead>\n",
       "    <tr style=\"text-align: right;\">\n",
       "      <th></th>\n",
       "      <th>pixel</th>\n",
       "      <th>run</th>\n",
       "      <th>ecap</th>\n",
       "      <th>chi2_e</th>\n",
       "      <th>xray</th>\n",
       "      <th>chi2_x</th>\n",
       "    </tr>\n",
       "  </thead>\n",
       "  <tbody>\n",
       "    <tr>\n",
       "      <th>0</th>\n",
       "      <td>76</td>\n",
       "      <td>1374</td>\n",
       "      <td>[58.83103205233663, 595.8118874579608, 7.15166...</td>\n",
       "      <td>1.983753</td>\n",
       "      <td>[8066.517014801231, 0.0, 6.817878533074638, 22...</td>\n",
       "      <td>557.846713</td>\n",
       "    </tr>\n",
       "    <tr>\n",
       "      <th>1</th>\n",
       "      <td>77</td>\n",
       "      <td>1374</td>\n",
       "      <td>[59.40394427502488, 600.4333725997816, 7.22731...</td>\n",
       "      <td>1.542704</td>\n",
       "      <td>[4607.681009680175, 0.0, 9.375653345250164, 20...</td>\n",
       "      <td>74.950968</td>\n",
       "    </tr>\n",
       "    <tr>\n",
       "      <th>2</th>\n",
       "      <td>78</td>\n",
       "      <td>1374</td>\n",
       "      <td>[45.69072708600087, 599.1125609379189, 7.44255...</td>\n",
       "      <td>1.618157</td>\n",
       "      <td>[1383.3017145192357, 0.0, 8.311254825592828, 1...</td>\n",
       "      <td>74.950968</td>\n",
       "    </tr>\n",
       "    <tr>\n",
       "      <th>3</th>\n",
       "      <td>87</td>\n",
       "      <td>1374</td>\n",
       "      <td>[49.94540437317657, 597.7945627367636, 7.26826...</td>\n",
       "      <td>1.597557</td>\n",
       "      <td>[10446.162877396153, 0.0, 6.253642613222071, 1...</td>\n",
       "      <td>622.251965</td>\n",
       "    </tr>\n",
       "    <tr>\n",
       "      <th>4</th>\n",
       "      <td>88</td>\n",
       "      <td>1374</td>\n",
       "      <td>[52.25996984152595, 600.7204460402887, 7.39549...</td>\n",
       "      <td>1.447793</td>\n",
       "      <td>[218456.23670864417, 0.0, 4.1062198980076925, ...</td>\n",
       "      <td>97.059473</td>\n",
       "    </tr>\n",
       "    <tr>\n",
       "      <th>5</th>\n",
       "      <td>96</td>\n",
       "      <td>1374</td>\n",
       "      <td>[38.07470243879024, 601.1389007318572, 6.53974...</td>\n",
       "      <td>1.327723</td>\n",
       "      <td>[2209.6710036235786, 0.0, 8.46497680369915, 14...</td>\n",
       "      <td>47.708699</td>\n",
       "    </tr>\n",
       "    <tr>\n",
       "      <th>6</th>\n",
       "      <td>97</td>\n",
       "      <td>1374</td>\n",
       "      <td>[46.36959547004999, 592.3045701268863, 6.07137...</td>\n",
       "      <td>1.000260</td>\n",
       "      <td>[6254.9852009586975, 0.0, 8.587833084213036, 1...</td>\n",
       "      <td>118.793328</td>\n",
       "    </tr>\n",
       "    <tr>\n",
       "      <th>7</th>\n",
       "      <td>98</td>\n",
       "      <td>1374</td>\n",
       "      <td>[43.52248883031499, 603.5660862094919, 7.08401...</td>\n",
       "      <td>1.340140</td>\n",
       "      <td>[4748.677903360749, 0.0, 9.23438258476264, 258...</td>\n",
       "      <td>118.793328</td>\n",
       "    </tr>\n",
       "    <tr>\n",
       "      <th>8</th>\n",
       "      <td>101</td>\n",
       "      <td>1374</td>\n",
       "      <td>[28.220917918012972, 600.0939514411654, 8.2989...</td>\n",
       "      <td>0.807690</td>\n",
       "      <td>[1086.5893836652488, 0.0, 23.668775058047757, ...</td>\n",
       "      <td>118.793328</td>\n",
       "    </tr>\n",
       "    <tr>\n",
       "      <th>9</th>\n",
       "      <td>103</td>\n",
       "      <td>1374</td>\n",
       "      <td>[16.060724553976357, 596.6164034336059, 8.6953...</td>\n",
       "      <td>0.535598</td>\n",
       "      <td>[3111.6658229321934, 0.0, 12.020060452550942, ...</td>\n",
       "      <td>28.469452</td>\n",
       "    </tr>\n",
       "    <tr>\n",
       "      <th>10</th>\n",
       "      <td>105</td>\n",
       "      <td>1374</td>\n",
       "      <td>[26.940666909241987, 600.2885267397053, 6.9063...</td>\n",
       "      <td>0.992248</td>\n",
       "      <td>[3048.8758303638742, 0.0, 8.01870519420744, 12...</td>\n",
       "      <td>19.219157</td>\n",
       "    </tr>\n",
       "    <tr>\n",
       "      <th>11</th>\n",
       "      <td>107</td>\n",
       "      <td>1374</td>\n",
       "      <td>[35.132828573987965, 594.8466398143302, 7.0389...</td>\n",
       "      <td>1.358055</td>\n",
       "      <td>[4306.65382678463, 0.0, 7.489283329716568, 137...</td>\n",
       "      <td>19.219157</td>\n",
       "    </tr>\n",
       "    <tr>\n",
       "      <th>12</th>\n",
       "      <td>113</td>\n",
       "      <td>1374</td>\n",
       "      <td>[17.29862057420814, 600.1783040778757, 6.62055...</td>\n",
       "      <td>0.593731</td>\n",
       "      <td>[1550.7557343830008, 0.0, 11.035195333187135, ...</td>\n",
       "      <td>12.661857</td>\n",
       "    </tr>\n",
       "    <tr>\n",
       "      <th>13</th>\n",
       "      <td>115</td>\n",
       "      <td>1374</td>\n",
       "      <td>[28.299220978542436, 596.4941677324366, 6.3778...</td>\n",
       "      <td>0.907375</td>\n",
       "      <td>[2716.466704295642, 0.0, 11.335503954024425, 1...</td>\n",
       "      <td>32.380998</td>\n",
       "    </tr>\n",
       "    <tr>\n",
       "      <th>14</th>\n",
       "      <td>116</td>\n",
       "      <td>1374</td>\n",
       "      <td>[-0.16608482217213688, 595.6466368863659, 10.9...</td>\n",
       "      <td>0.076857</td>\n",
       "      <td>[2996.7173938834976, 0.0, 8.453432555513519, 6...</td>\n",
       "      <td>75.341850</td>\n",
       "    </tr>\n",
       "    <tr>\n",
       "      <th>15</th>\n",
       "      <td>121</td>\n",
       "      <td>1374</td>\n",
       "      <td>[15.687239833418557, 596.2523522863273, 7.1411...</td>\n",
       "      <td>0.593984</td>\n",
       "      <td>[3736.845169757005, 0.0, 4.892491385540982, 57...</td>\n",
       "      <td>89.026219</td>\n",
       "    </tr>\n",
       "    <tr>\n",
       "      <th>16</th>\n",
       "      <td>122</td>\n",
       "      <td>1374</td>\n",
       "      <td>[19.178442108975585, 592.9983603523367, 6.5680...</td>\n",
       "      <td>0.825875</td>\n",
       "      <td>[3923.8263262572596, 0.0, 5.671622373737323, 2...</td>\n",
       "      <td>234.227219</td>\n",
       "    </tr>\n",
       "    <tr>\n",
       "      <th>17</th>\n",
       "      <td>123</td>\n",
       "      <td>1374</td>\n",
       "      <td>[16.27516723890213, 597.3460519310174, 8.18061...</td>\n",
       "      <td>0.616855</td>\n",
       "      <td>[2422.188366801213, 0.0, 6.515821279058142, 13...</td>\n",
       "      <td>112.363473</td>\n",
       "    </tr>\n",
       "    <tr>\n",
       "      <th>18</th>\n",
       "      <td>124</td>\n",
       "      <td>1374</td>\n",
       "      <td>[19.487649447458644, 600.9719893890709, 7.0931...</td>\n",
       "      <td>0.636306</td>\n",
       "      <td>[540.5803446310185, 0.0, 11.376156367567251, 8...</td>\n",
       "      <td>93.625366</td>\n",
       "    </tr>\n",
       "  </tbody>\n",
       "</table>\n",
       "</div>"
      ],
      "text/plain": [
       "    pixel   run                                               ecap    chi2_e  \\\n",
       "0      76  1374  [58.83103205233663, 595.8118874579608, 7.15166...  1.983753   \n",
       "1      77  1374  [59.40394427502488, 600.4333725997816, 7.22731...  1.542704   \n",
       "2      78  1374  [45.69072708600087, 599.1125609379189, 7.44255...  1.618157   \n",
       "3      87  1374  [49.94540437317657, 597.7945627367636, 7.26826...  1.597557   \n",
       "4      88  1374  [52.25996984152595, 600.7204460402887, 7.39549...  1.447793   \n",
       "5      96  1374  [38.07470243879024, 601.1389007318572, 6.53974...  1.327723   \n",
       "6      97  1374  [46.36959547004999, 592.3045701268863, 6.07137...  1.000260   \n",
       "7      98  1374  [43.52248883031499, 603.5660862094919, 7.08401...  1.340140   \n",
       "8     101  1374  [28.220917918012972, 600.0939514411654, 8.2989...  0.807690   \n",
       "9     103  1374  [16.060724553976357, 596.6164034336059, 8.6953...  0.535598   \n",
       "10    105  1374  [26.940666909241987, 600.2885267397053, 6.9063...  0.992248   \n",
       "11    107  1374  [35.132828573987965, 594.8466398143302, 7.0389...  1.358055   \n",
       "12    113  1374  [17.29862057420814, 600.1783040778757, 6.62055...  0.593731   \n",
       "13    115  1374  [28.299220978542436, 596.4941677324366, 6.3778...  0.907375   \n",
       "14    116  1374  [-0.16608482217213688, 595.6466368863659, 10.9...  0.076857   \n",
       "15    121  1374  [15.687239833418557, 596.2523522863273, 7.1411...  0.593984   \n",
       "16    122  1374  [19.178442108975585, 592.9983603523367, 6.5680...  0.825875   \n",
       "17    123  1374  [16.27516723890213, 597.3460519310174, 8.18061...  0.616855   \n",
       "18    124  1374  [19.487649447458644, 600.9719893890709, 7.0931...  0.636306   \n",
       "\n",
       "                                                 xray      chi2_x  \n",
       "0   [8066.517014801231, 0.0, 6.817878533074638, 22...  557.846713  \n",
       "1   [4607.681009680175, 0.0, 9.375653345250164, 20...   74.950968  \n",
       "2   [1383.3017145192357, 0.0, 8.311254825592828, 1...   74.950968  \n",
       "3   [10446.162877396153, 0.0, 6.253642613222071, 1...  622.251965  \n",
       "4   [218456.23670864417, 0.0, 4.1062198980076925, ...   97.059473  \n",
       "5   [2209.6710036235786, 0.0, 8.46497680369915, 14...   47.708699  \n",
       "6   [6254.9852009586975, 0.0, 8.587833084213036, 1...  118.793328  \n",
       "7   [4748.677903360749, 0.0, 9.23438258476264, 258...  118.793328  \n",
       "8   [1086.5893836652488, 0.0, 23.668775058047757, ...  118.793328  \n",
       "9   [3111.6658229321934, 0.0, 12.020060452550942, ...   28.469452  \n",
       "10  [3048.8758303638742, 0.0, 8.01870519420744, 12...   19.219157  \n",
       "11  [4306.65382678463, 0.0, 7.489283329716568, 137...   19.219157  \n",
       "12  [1550.7557343830008, 0.0, 11.035195333187135, ...   12.661857  \n",
       "13  [2716.466704295642, 0.0, 11.335503954024425, 1...   32.380998  \n",
       "14  [2996.7173938834976, 0.0, 8.453432555513519, 6...   75.341850  \n",
       "15  [3736.845169757005, 0.0, 4.892491385540982, 57...   89.026219  \n",
       "16  [3923.8263262572596, 0.0, 5.671622373737323, 2...  234.227219  \n",
       "17  [2422.188366801213, 0.0, 6.515821279058142, 13...  112.363473  \n",
       "18  [540.5803446310185, 0.0, 11.376156367567251, 8...   93.625366  "
      ]
     },
     "execution_count": 7948,
     "metadata": {},
     "output_type": "execute_result"
    }
   ],
   "source": [
    "g"
   ]
  },
  {
   "cell_type": "code",
   "execution_count": 7945,
   "id": "c1a5be28-57bd-44ce-b3f0-1e8d9e3afe25",
   "metadata": {},
   "outputs": [
    {
     "data": {
      "text/html": [
       "<div>\n",
       "<style scoped>\n",
       "    .dataframe tbody tr th:only-of-type {\n",
       "        vertical-align: middle;\n",
       "    }\n",
       "\n",
       "    .dataframe tbody tr th {\n",
       "        vertical-align: top;\n",
       "    }\n",
       "\n",
       "    .dataframe thead th {\n",
       "        text-align: right;\n",
       "    }\n",
       "</style>\n",
       "<table border=\"1\" class=\"dataframe\">\n",
       "  <thead>\n",
       "    <tr style=\"text-align: right;\">\n",
       "      <th></th>\n",
       "      <th>p0</th>\n",
       "      <th>p1</th>\n",
       "      <th>p2</th>\n",
       "      <th>p3</th>\n",
       "      <th>p4</th>\n",
       "      <th>p5</th>\n",
       "      <th>p6</th>\n",
       "      <th>p7</th>\n",
       "      <th>p8</th>\n",
       "      <th>p9</th>\n",
       "    </tr>\n",
       "  </thead>\n",
       "  <tbody>\n",
       "    <tr>\n",
       "      <th>0</th>\n",
       "      <td>58.831032</td>\n",
       "      <td>595.811887</td>\n",
       "      <td>7.151669</td>\n",
       "      <td>10.961424</td>\n",
       "      <td>634.602138</td>\n",
       "      <td>7.450280</td>\n",
       "      <td>0.002255</td>\n",
       "      <td>1.470196e-04</td>\n",
       "      <td>-0.421930</td>\n",
       "      <td>0.716445</td>\n",
       "    </tr>\n",
       "    <tr>\n",
       "      <th>1</th>\n",
       "      <td>59.403944</td>\n",
       "      <td>600.433373</td>\n",
       "      <td>7.227314</td>\n",
       "      <td>11.682040</td>\n",
       "      <td>640.384593</td>\n",
       "      <td>6.922460</td>\n",
       "      <td>0.001669</td>\n",
       "      <td>1.082994e-04</td>\n",
       "      <td>-0.399709</td>\n",
       "      <td>0.666384</td>\n",
       "    </tr>\n",
       "    <tr>\n",
       "      <th>2</th>\n",
       "      <td>45.690727</td>\n",
       "      <td>599.112561</td>\n",
       "      <td>7.442558</td>\n",
       "      <td>11.997226</td>\n",
       "      <td>640.270814</td>\n",
       "      <td>5.870017</td>\n",
       "      <td>0.002014</td>\n",
       "      <td>1.946804e-04</td>\n",
       "      <td>-0.218129</td>\n",
       "      <td>0.539470</td>\n",
       "    </tr>\n",
       "    <tr>\n",
       "      <th>3</th>\n",
       "      <td>49.945404</td>\n",
       "      <td>597.794563</td>\n",
       "      <td>7.268268</td>\n",
       "      <td>11.800341</td>\n",
       "      <td>636.054754</td>\n",
       "      <td>5.992646</td>\n",
       "      <td>0.001358</td>\n",
       "      <td>1.817032e-04</td>\n",
       "      <td>-0.680246</td>\n",
       "      <td>1.033985</td>\n",
       "    </tr>\n",
       "    <tr>\n",
       "      <th>4</th>\n",
       "      <td>52.259970</td>\n",
       "      <td>600.720446</td>\n",
       "      <td>7.395494</td>\n",
       "      <td>11.399284</td>\n",
       "      <td>641.653322</td>\n",
       "      <td>6.197920</td>\n",
       "      <td>0.001894</td>\n",
       "      <td>2.134321e-04</td>\n",
       "      <td>-0.261016</td>\n",
       "      <td>0.659408</td>\n",
       "    </tr>\n",
       "    <tr>\n",
       "      <th>5</th>\n",
       "      <td>38.074702</td>\n",
       "      <td>601.138901</td>\n",
       "      <td>6.539747</td>\n",
       "      <td>8.470551</td>\n",
       "      <td>640.122737</td>\n",
       "      <td>5.290506</td>\n",
       "      <td>0.001126</td>\n",
       "      <td>1.569277e-04</td>\n",
       "      <td>-0.662188</td>\n",
       "      <td>0.962824</td>\n",
       "    </tr>\n",
       "    <tr>\n",
       "      <th>6</th>\n",
       "      <td>46.369595</td>\n",
       "      <td>592.304570</td>\n",
       "      <td>6.071378</td>\n",
       "      <td>8.880688</td>\n",
       "      <td>632.998870</td>\n",
       "      <td>6.280186</td>\n",
       "      <td>0.001641</td>\n",
       "      <td>1.501318e-04</td>\n",
       "      <td>-0.380912</td>\n",
       "      <td>0.701693</td>\n",
       "    </tr>\n",
       "    <tr>\n",
       "      <th>7</th>\n",
       "      <td>43.522489</td>\n",
       "      <td>603.566086</td>\n",
       "      <td>7.084013</td>\n",
       "      <td>9.865062</td>\n",
       "      <td>644.383045</td>\n",
       "      <td>5.582560</td>\n",
       "      <td>0.001244</td>\n",
       "      <td>4.562581e-05</td>\n",
       "      <td>-0.867232</td>\n",
       "      <td>1.074992</td>\n",
       "    </tr>\n",
       "    <tr>\n",
       "      <th>8</th>\n",
       "      <td>28.220918</td>\n",
       "      <td>600.093951</td>\n",
       "      <td>8.298913</td>\n",
       "      <td>5.807351</td>\n",
       "      <td>640.076188</td>\n",
       "      <td>6.482883</td>\n",
       "      <td>0.000897</td>\n",
       "      <td>1.222548e-04</td>\n",
       "      <td>-0.453573</td>\n",
       "      <td>0.682744</td>\n",
       "    </tr>\n",
       "    <tr>\n",
       "      <th>9</th>\n",
       "      <td>16.060725</td>\n",
       "      <td>596.616403</td>\n",
       "      <td>8.695303</td>\n",
       "      <td>4.195362</td>\n",
       "      <td>636.361626</td>\n",
       "      <td>6.148519</td>\n",
       "      <td>0.000684</td>\n",
       "      <td>1.637736e-04</td>\n",
       "      <td>-0.317805</td>\n",
       "      <td>0.594701</td>\n",
       "    </tr>\n",
       "    <tr>\n",
       "      <th>10</th>\n",
       "      <td>26.940667</td>\n",
       "      <td>600.288527</td>\n",
       "      <td>6.906381</td>\n",
       "      <td>4.926553</td>\n",
       "      <td>640.575386</td>\n",
       "      <td>5.151979</td>\n",
       "      <td>0.001134</td>\n",
       "      <td>1.514224e-04</td>\n",
       "      <td>-0.391569</td>\n",
       "      <td>0.708596</td>\n",
       "    </tr>\n",
       "    <tr>\n",
       "      <th>11</th>\n",
       "      <td>35.132829</td>\n",
       "      <td>594.846640</td>\n",
       "      <td>7.038978</td>\n",
       "      <td>6.194527</td>\n",
       "      <td>633.447790</td>\n",
       "      <td>7.475714</td>\n",
       "      <td>0.001413</td>\n",
       "      <td>1.799145e-04</td>\n",
       "      <td>-0.343433</td>\n",
       "      <td>0.650671</td>\n",
       "    </tr>\n",
       "    <tr>\n",
       "      <th>12</th>\n",
       "      <td>17.298621</td>\n",
       "      <td>600.178304</td>\n",
       "      <td>6.620558</td>\n",
       "      <td>4.306614</td>\n",
       "      <td>639.874626</td>\n",
       "      <td>4.685336</td>\n",
       "      <td>0.000556</td>\n",
       "      <td>3.374865e-05</td>\n",
       "      <td>-0.366110</td>\n",
       "      <td>0.555993</td>\n",
       "    </tr>\n",
       "    <tr>\n",
       "      <th>13</th>\n",
       "      <td>28.299221</td>\n",
       "      <td>596.494168</td>\n",
       "      <td>6.377885</td>\n",
       "      <td>3.732942</td>\n",
       "      <td>636.127820</td>\n",
       "      <td>7.642107</td>\n",
       "      <td>0.001946</td>\n",
       "      <td>3.925261e-05</td>\n",
       "      <td>-0.196411</td>\n",
       "      <td>0.385468</td>\n",
       "    </tr>\n",
       "    <tr>\n",
       "      <th>14</th>\n",
       "      <td>-0.166085</td>\n",
       "      <td>595.646637</td>\n",
       "      <td>10.962766</td>\n",
       "      <td>0.864510</td>\n",
       "      <td>625.500537</td>\n",
       "      <td>0.101498</td>\n",
       "      <td>0.000099</td>\n",
       "      <td>2.807732e-05</td>\n",
       "      <td>-0.059067</td>\n",
       "      <td>0.135740</td>\n",
       "    </tr>\n",
       "    <tr>\n",
       "      <th>15</th>\n",
       "      <td>15.687240</td>\n",
       "      <td>596.252352</td>\n",
       "      <td>7.141163</td>\n",
       "      <td>3.727652</td>\n",
       "      <td>634.721901</td>\n",
       "      <td>6.332627</td>\n",
       "      <td>0.000505</td>\n",
       "      <td>1.525784e-04</td>\n",
       "      <td>-0.269749</td>\n",
       "      <td>0.547247</td>\n",
       "    </tr>\n",
       "    <tr>\n",
       "      <th>16</th>\n",
       "      <td>19.178442</td>\n",
       "      <td>592.998360</td>\n",
       "      <td>6.568015</td>\n",
       "      <td>4.254782</td>\n",
       "      <td>633.438329</td>\n",
       "      <td>7.819520</td>\n",
       "      <td>0.001178</td>\n",
       "      <td>-2.928263e-07</td>\n",
       "      <td>-0.341972</td>\n",
       "      <td>0.463603</td>\n",
       "    </tr>\n",
       "    <tr>\n",
       "      <th>17</th>\n",
       "      <td>16.275167</td>\n",
       "      <td>597.346052</td>\n",
       "      <td>8.180618</td>\n",
       "      <td>4.476458</td>\n",
       "      <td>636.871368</td>\n",
       "      <td>3.111530</td>\n",
       "      <td>0.000600</td>\n",
       "      <td>8.845834e-05</td>\n",
       "      <td>-0.409332</td>\n",
       "      <td>0.640191</td>\n",
       "    </tr>\n",
       "    <tr>\n",
       "      <th>18</th>\n",
       "      <td>19.487649</td>\n",
       "      <td>600.971989</td>\n",
       "      <td>7.093158</td>\n",
       "      <td>4.365916</td>\n",
       "      <td>640.192087</td>\n",
       "      <td>7.192662</td>\n",
       "      <td>0.001395</td>\n",
       "      <td>1.336827e-04</td>\n",
       "      <td>-0.011259</td>\n",
       "      <td>0.263397</td>\n",
       "    </tr>\n",
       "  </tbody>\n",
       "</table>\n",
       "</div>"
      ],
      "text/plain": [
       "           p0          p1         p2         p3          p4        p5  \\\n",
       "0   58.831032  595.811887   7.151669  10.961424  634.602138  7.450280   \n",
       "1   59.403944  600.433373   7.227314  11.682040  640.384593  6.922460   \n",
       "2   45.690727  599.112561   7.442558  11.997226  640.270814  5.870017   \n",
       "3   49.945404  597.794563   7.268268  11.800341  636.054754  5.992646   \n",
       "4   52.259970  600.720446   7.395494  11.399284  641.653322  6.197920   \n",
       "5   38.074702  601.138901   6.539747   8.470551  640.122737  5.290506   \n",
       "6   46.369595  592.304570   6.071378   8.880688  632.998870  6.280186   \n",
       "7   43.522489  603.566086   7.084013   9.865062  644.383045  5.582560   \n",
       "8   28.220918  600.093951   8.298913   5.807351  640.076188  6.482883   \n",
       "9   16.060725  596.616403   8.695303   4.195362  636.361626  6.148519   \n",
       "10  26.940667  600.288527   6.906381   4.926553  640.575386  5.151979   \n",
       "11  35.132829  594.846640   7.038978   6.194527  633.447790  7.475714   \n",
       "12  17.298621  600.178304   6.620558   4.306614  639.874626  4.685336   \n",
       "13  28.299221  596.494168   6.377885   3.732942  636.127820  7.642107   \n",
       "14  -0.166085  595.646637  10.962766   0.864510  625.500537  0.101498   \n",
       "15  15.687240  596.252352   7.141163   3.727652  634.721901  6.332627   \n",
       "16  19.178442  592.998360   6.568015   4.254782  633.438329  7.819520   \n",
       "17  16.275167  597.346052   8.180618   4.476458  636.871368  3.111530   \n",
       "18  19.487649  600.971989   7.093158   4.365916  640.192087  7.192662   \n",
       "\n",
       "          p6            p7        p8        p9  \n",
       "0   0.002255  1.470196e-04 -0.421930  0.716445  \n",
       "1   0.001669  1.082994e-04 -0.399709  0.666384  \n",
       "2   0.002014  1.946804e-04 -0.218129  0.539470  \n",
       "3   0.001358  1.817032e-04 -0.680246  1.033985  \n",
       "4   0.001894  2.134321e-04 -0.261016  0.659408  \n",
       "5   0.001126  1.569277e-04 -0.662188  0.962824  \n",
       "6   0.001641  1.501318e-04 -0.380912  0.701693  \n",
       "7   0.001244  4.562581e-05 -0.867232  1.074992  \n",
       "8   0.000897  1.222548e-04 -0.453573  0.682744  \n",
       "9   0.000684  1.637736e-04 -0.317805  0.594701  \n",
       "10  0.001134  1.514224e-04 -0.391569  0.708596  \n",
       "11  0.001413  1.799145e-04 -0.343433  0.650671  \n",
       "12  0.000556  3.374865e-05 -0.366110  0.555993  \n",
       "13  0.001946  3.925261e-05 -0.196411  0.385468  \n",
       "14  0.000099  2.807732e-05 -0.059067  0.135740  \n",
       "15  0.000505  1.525784e-04 -0.269749  0.547247  \n",
       "16  0.001178 -2.928263e-07 -0.341972  0.463603  \n",
       "17  0.000600  8.845834e-05 -0.409332  0.640191  \n",
       "18  0.001395  1.336827e-04 -0.011259  0.263397  "
      ]
     },
     "execution_count": 7945,
     "metadata": {},
     "output_type": "execute_result"
    }
   ],
   "source": [
    "df_ecap"
   ]
  },
  {
   "cell_type": "code",
   "execution_count": 7746,
   "id": "f30adea1-bdd6-4011-a359-37c358766b18",
   "metadata": {},
   "outputs": [
    {
     "data": {
      "text/html": [
       "<div>\n",
       "<style scoped>\n",
       "    .dataframe tbody tr th:only-of-type {\n",
       "        vertical-align: middle;\n",
       "    }\n",
       "\n",
       "    .dataframe tbody tr th {\n",
       "        vertical-align: top;\n",
       "    }\n",
       "\n",
       "    .dataframe thead th {\n",
       "        text-align: right;\n",
       "    }\n",
       "</style>\n",
       "<table border=\"1\" class=\"dataframe\">\n",
       "  <thead>\n",
       "    <tr style=\"text-align: right;\">\n",
       "      <th></th>\n",
       "      <th>p0</th>\n",
       "      <th>p1</th>\n",
       "      <th>p2</th>\n",
       "      <th>p3</th>\n",
       "      <th>p4</th>\n",
       "      <th>p5</th>\n",
       "      <th>p6</th>\n",
       "      <th>p7</th>\n",
       "      <th>p8</th>\n",
       "      <th>p9</th>\n",
       "      <th>p10</th>\n",
       "      <th>p11</th>\n",
       "      <th>p12</th>\n",
       "      <th>p13</th>\n",
       "      <th>p14</th>\n",
       "      <th>p15</th>\n",
       "    </tr>\n",
       "  </thead>\n",
       "  <tbody>\n",
       "    <tr>\n",
       "      <th>0</th>\n",
       "      <td>8066.517015</td>\n",
       "      <td>0.0</td>\n",
       "      <td>6.817879</td>\n",
       "      <td>221.240076</td>\n",
       "      <td>38.661855</td>\n",
       "      <td>6.551940</td>\n",
       "      <td>97.231621</td>\n",
       "      <td>18.742366</td>\n",
       "      <td>7.112393</td>\n",
       "      <td>591.309724</td>\n",
       "      <td>13.248310</td>\n",
       "      <td>2.370349</td>\n",
       "      <td>4.007375e+06</td>\n",
       "      <td>-4.007371e+06</td>\n",
       "      <td>0.059293</td>\n",
       "      <td>-0.000362</td>\n",
       "    </tr>\n",
       "    <tr>\n",
       "      <th>1</th>\n",
       "      <td>4607.681010</td>\n",
       "      <td>0.0</td>\n",
       "      <td>9.375653</td>\n",
       "      <td>201.301870</td>\n",
       "      <td>38.599797</td>\n",
       "      <td>6.221376</td>\n",
       "      <td>-662.074440</td>\n",
       "      <td>10.034450</td>\n",
       "      <td>2.047245</td>\n",
       "      <td>131.519542</td>\n",
       "      <td>22.379151</td>\n",
       "      <td>5.448249</td>\n",
       "      <td>-4.174105e+06</td>\n",
       "      <td>4.174124e+06</td>\n",
       "      <td>-0.153682</td>\n",
       "      <td>0.000342</td>\n",
       "    </tr>\n",
       "    <tr>\n",
       "      <th>2</th>\n",
       "      <td>1383.301715</td>\n",
       "      <td>0.0</td>\n",
       "      <td>8.311255</td>\n",
       "      <td>162.887699</td>\n",
       "      <td>39.688454</td>\n",
       "      <td>6.697159</td>\n",
       "      <td>421.671542</td>\n",
       "      <td>13.438074</td>\n",
       "      <td>2.278754</td>\n",
       "      <td>195.225712</td>\n",
       "      <td>21.330997</td>\n",
       "      <td>5.649309</td>\n",
       "      <td>-4.004643e+06</td>\n",
       "      <td>4.004658e+06</td>\n",
       "      <td>-0.106929</td>\n",
       "      <td>0.000196</td>\n",
       "    </tr>\n",
       "    <tr>\n",
       "      <th>3</th>\n",
       "      <td>10446.162877</td>\n",
       "      <td>0.0</td>\n",
       "      <td>6.253643</td>\n",
       "      <td>161.155369</td>\n",
       "      <td>39.604454</td>\n",
       "      <td>5.355406</td>\n",
       "      <td>1075.995995</td>\n",
       "      <td>12.948123</td>\n",
       "      <td>2.585378</td>\n",
       "      <td>-1170.929100</td>\n",
       "      <td>12.869670</td>\n",
       "      <td>0.063762</td>\n",
       "      <td>4.006012e+06</td>\n",
       "      <td>-4.005941e+06</td>\n",
       "      <td>-1.055401</td>\n",
       "      <td>0.003857</td>\n",
       "    </tr>\n",
       "    <tr>\n",
       "      <th>4</th>\n",
       "      <td>218456.236709</td>\n",
       "      <td>0.0</td>\n",
       "      <td>4.106220</td>\n",
       "      <td>189.423555</td>\n",
       "      <td>39.710042</td>\n",
       "      <td>6.030561</td>\n",
       "      <td>-120847.356183</td>\n",
       "      <td>1.904650</td>\n",
       "      <td>3.136547</td>\n",
       "      <td>648.252931</td>\n",
       "      <td>2.333418</td>\n",
       "      <td>15.566476</td>\n",
       "      <td>3.986794e+06</td>\n",
       "      <td>-3.986792e+06</td>\n",
       "      <td>0.089456</td>\n",
       "      <td>-0.000504</td>\n",
       "    </tr>\n",
       "    <tr>\n",
       "      <th>5</th>\n",
       "      <td>2209.671004</td>\n",
       "      <td>0.0</td>\n",
       "      <td>8.464977</td>\n",
       "      <td>147.371267</td>\n",
       "      <td>39.989977</td>\n",
       "      <td>5.252169</td>\n",
       "      <td>-452.955178</td>\n",
       "      <td>7.974559</td>\n",
       "      <td>0.429986</td>\n",
       "      <td>-458.813868</td>\n",
       "      <td>9.575484</td>\n",
       "      <td>2.317155</td>\n",
       "      <td>-3.986469e+06</td>\n",
       "      <td>3.986496e+06</td>\n",
       "      <td>-0.356655</td>\n",
       "      <td>0.001224</td>\n",
       "    </tr>\n",
       "    <tr>\n",
       "      <th>6</th>\n",
       "      <td>6254.985201</td>\n",
       "      <td>0.0</td>\n",
       "      <td>8.587833</td>\n",
       "      <td>152.203186</td>\n",
       "      <td>39.262196</td>\n",
       "      <td>5.458340</td>\n",
       "      <td>-31667.714939</td>\n",
       "      <td>10.761749</td>\n",
       "      <td>2.838052</td>\n",
       "      <td>30592.963951</td>\n",
       "      <td>10.803438</td>\n",
       "      <td>2.795103</td>\n",
       "      <td>3.986620e+06</td>\n",
       "      <td>-3.986591e+06</td>\n",
       "      <td>-0.359720</td>\n",
       "      <td>0.001213</td>\n",
       "    </tr>\n",
       "    <tr>\n",
       "      <th>7</th>\n",
       "      <td>4748.677903</td>\n",
       "      <td>0.0</td>\n",
       "      <td>9.234383</td>\n",
       "      <td>258.789507</td>\n",
       "      <td>39.156017</td>\n",
       "      <td>6.214736</td>\n",
       "      <td>-933.205900</td>\n",
       "      <td>9.805748</td>\n",
       "      <td>1.928269</td>\n",
       "      <td>55.695141</td>\n",
       "      <td>24.984512</td>\n",
       "      <td>4.808219</td>\n",
       "      <td>3.986561e+06</td>\n",
       "      <td>-3.986577e+06</td>\n",
       "      <td>0.402336</td>\n",
       "      <td>-0.001683</td>\n",
       "    </tr>\n",
       "    <tr>\n",
       "      <th>8</th>\n",
       "      <td>1086.589384</td>\n",
       "      <td>0.0</td>\n",
       "      <td>23.668775</td>\n",
       "      <td>118.775430</td>\n",
       "      <td>40.898970</td>\n",
       "      <td>4.999951</td>\n",
       "      <td>-397.332319</td>\n",
       "      <td>18.119297</td>\n",
       "      <td>3.291047</td>\n",
       "      <td>-252.870711</td>\n",
       "      <td>25.070408</td>\n",
       "      <td>-6.816345</td>\n",
       "      <td>-1.288651e+07</td>\n",
       "      <td>1.288652e+07</td>\n",
       "      <td>-0.044488</td>\n",
       "      <td>-0.000039</td>\n",
       "    </tr>\n",
       "    <tr>\n",
       "      <th>9</th>\n",
       "      <td>3111.665823</td>\n",
       "      <td>0.0</td>\n",
       "      <td>12.020060</td>\n",
       "      <td>99.003955</td>\n",
       "      <td>39.645151</td>\n",
       "      <td>8.036760</td>\n",
       "      <td>-6434.901746</td>\n",
       "      <td>19.218760</td>\n",
       "      <td>2.301729</td>\n",
       "      <td>6238.739997</td>\n",
       "      <td>19.246096</td>\n",
       "      <td>2.264706</td>\n",
       "      <td>-4.144934e+06</td>\n",
       "      <td>4.144962e+06</td>\n",
       "      <td>-0.298367</td>\n",
       "      <td>0.000869</td>\n",
       "    </tr>\n",
       "    <tr>\n",
       "      <th>10</th>\n",
       "      <td>3048.875830</td>\n",
       "      <td>0.0</td>\n",
       "      <td>8.018705</td>\n",
       "      <td>121.273408</td>\n",
       "      <td>39.882839</td>\n",
       "      <td>4.707796</td>\n",
       "      <td>-533.005637</td>\n",
       "      <td>8.546782</td>\n",
       "      <td>3.072524</td>\n",
       "      <td>11.831760</td>\n",
       "      <td>29.437753</td>\n",
       "      <td>10.623775</td>\n",
       "      <td>3.986080e+06</td>\n",
       "      <td>-3.986075e+06</td>\n",
       "      <td>-0.005645</td>\n",
       "      <td>-0.000062</td>\n",
       "    </tr>\n",
       "    <tr>\n",
       "      <th>11</th>\n",
       "      <td>4306.653827</td>\n",
       "      <td>0.0</td>\n",
       "      <td>7.489283</td>\n",
       "      <td>137.364413</td>\n",
       "      <td>39.440535</td>\n",
       "      <td>5.854598</td>\n",
       "      <td>-521.546836</td>\n",
       "      <td>9.343548</td>\n",
       "      <td>2.661157</td>\n",
       "      <td>29.263185</td>\n",
       "      <td>20.446359</td>\n",
       "      <td>-5.534250</td>\n",
       "      <td>-3.986755e+06</td>\n",
       "      <td>3.986760e+06</td>\n",
       "      <td>0.025085</td>\n",
       "      <td>-0.000234</td>\n",
       "    </tr>\n",
       "    <tr>\n",
       "      <th>12</th>\n",
       "      <td>1550.755734</td>\n",
       "      <td>0.0</td>\n",
       "      <td>11.035195</td>\n",
       "      <td>87.433556</td>\n",
       "      <td>39.726419</td>\n",
       "      <td>5.815753</td>\n",
       "      <td>-569.749818</td>\n",
       "      <td>8.817977</td>\n",
       "      <td>3.706950</td>\n",
       "      <td>-127.378714</td>\n",
       "      <td>15.332889</td>\n",
       "      <td>4.756332</td>\n",
       "      <td>-3.986625e+06</td>\n",
       "      <td>3.986627e+06</td>\n",
       "      <td>0.049132</td>\n",
       "      <td>-0.000256</td>\n",
       "    </tr>\n",
       "    <tr>\n",
       "      <th>13</th>\n",
       "      <td>2716.466704</td>\n",
       "      <td>0.0</td>\n",
       "      <td>11.335504</td>\n",
       "      <td>113.712599</td>\n",
       "      <td>39.678190</td>\n",
       "      <td>5.711884</td>\n",
       "      <td>-749.746510</td>\n",
       "      <td>9.034812</td>\n",
       "      <td>3.014664</td>\n",
       "      <td>-393.592857</td>\n",
       "      <td>12.645454</td>\n",
       "      <td>6.595293</td>\n",
       "      <td>-3.986391e+06</td>\n",
       "      <td>3.986397e+06</td>\n",
       "      <td>-0.014570</td>\n",
       "      <td>-0.000013</td>\n",
       "    </tr>\n",
       "    <tr>\n",
       "      <th>14</th>\n",
       "      <td>2996.717394</td>\n",
       "      <td>0.0</td>\n",
       "      <td>8.453433</td>\n",
       "      <td>6.557225</td>\n",
       "      <td>34.401529</td>\n",
       "      <td>-12.853168</td>\n",
       "      <td>-558.292533</td>\n",
       "      <td>9.357526</td>\n",
       "      <td>3.814723</td>\n",
       "      <td>14.030269</td>\n",
       "      <td>21.425619</td>\n",
       "      <td>-4.132083</td>\n",
       "      <td>3.986605e+06</td>\n",
       "      <td>-3.986606e+06</td>\n",
       "      <td>0.028582</td>\n",
       "      <td>-0.000140</td>\n",
       "    </tr>\n",
       "    <tr>\n",
       "      <th>15</th>\n",
       "      <td>3736.845170</td>\n",
       "      <td>0.0</td>\n",
       "      <td>4.892491</td>\n",
       "      <td>57.993204</td>\n",
       "      <td>38.292862</td>\n",
       "      <td>2.951854</td>\n",
       "      <td>-1100.057302</td>\n",
       "      <td>4.834551</td>\n",
       "      <td>0.483267</td>\n",
       "      <td>63.793222</td>\n",
       "      <td>41.939907</td>\n",
       "      <td>-2.682991</td>\n",
       "      <td>3.967582e+06</td>\n",
       "      <td>-3.967551e+06</td>\n",
       "      <td>-0.444996</td>\n",
       "      <td>0.001584</td>\n",
       "    </tr>\n",
       "    <tr>\n",
       "      <th>16</th>\n",
       "      <td>3923.826326</td>\n",
       "      <td>0.0</td>\n",
       "      <td>5.671622</td>\n",
       "      <td>241.759010</td>\n",
       "      <td>40.924812</td>\n",
       "      <td>7.777229</td>\n",
       "      <td>22.927589</td>\n",
       "      <td>-54.109687</td>\n",
       "      <td>-1.129035</td>\n",
       "      <td>-186.847895</td>\n",
       "      <td>42.747027</td>\n",
       "      <td>10.225840</td>\n",
       "      <td>3.988184e+06</td>\n",
       "      <td>-3.988154e+06</td>\n",
       "      <td>-0.388302</td>\n",
       "      <td>0.001309</td>\n",
       "    </tr>\n",
       "    <tr>\n",
       "      <th>17</th>\n",
       "      <td>2422.188367</td>\n",
       "      <td>0.0</td>\n",
       "      <td>6.515821</td>\n",
       "      <td>137.180973</td>\n",
       "      <td>40.953901</td>\n",
       "      <td>6.843575</td>\n",
       "      <td>201.287086</td>\n",
       "      <td>13.608226</td>\n",
       "      <td>2.391022</td>\n",
       "      <td>-61.405407</td>\n",
       "      <td>44.353764</td>\n",
       "      <td>-9.645276</td>\n",
       "      <td>-3.986415e+06</td>\n",
       "      <td>3.986427e+06</td>\n",
       "      <td>-0.106271</td>\n",
       "      <td>0.000288</td>\n",
       "    </tr>\n",
       "    <tr>\n",
       "      <th>18</th>\n",
       "      <td>540.580345</td>\n",
       "      <td>0.0</td>\n",
       "      <td>11.376156</td>\n",
       "      <td>88.981424</td>\n",
       "      <td>39.614397</td>\n",
       "      <td>5.975568</td>\n",
       "      <td>43.114260</td>\n",
       "      <td>24.171225</td>\n",
       "      <td>4.114984</td>\n",
       "      <td>-199.563089</td>\n",
       "      <td>9.515347</td>\n",
       "      <td>-1.919337</td>\n",
       "      <td>-3.986499e+06</td>\n",
       "      <td>3.986506e+06</td>\n",
       "      <td>-0.006139</td>\n",
       "      <td>-0.000117</td>\n",
       "    </tr>\n",
       "  </tbody>\n",
       "</table>\n",
       "</div>"
      ],
      "text/plain": [
       "               p0   p1         p2          p3         p4         p5  \\\n",
       "0     8066.517015  0.0   6.817879  221.240076  38.661855   6.551940   \n",
       "1     4607.681010  0.0   9.375653  201.301870  38.599797   6.221376   \n",
       "2     1383.301715  0.0   8.311255  162.887699  39.688454   6.697159   \n",
       "3    10446.162877  0.0   6.253643  161.155369  39.604454   5.355406   \n",
       "4   218456.236709  0.0   4.106220  189.423555  39.710042   6.030561   \n",
       "5     2209.671004  0.0   8.464977  147.371267  39.989977   5.252169   \n",
       "6     6254.985201  0.0   8.587833  152.203186  39.262196   5.458340   \n",
       "7     4748.677903  0.0   9.234383  258.789507  39.156017   6.214736   \n",
       "8     1086.589384  0.0  23.668775  118.775430  40.898970   4.999951   \n",
       "9     3111.665823  0.0  12.020060   99.003955  39.645151   8.036760   \n",
       "10    3048.875830  0.0   8.018705  121.273408  39.882839   4.707796   \n",
       "11    4306.653827  0.0   7.489283  137.364413  39.440535   5.854598   \n",
       "12    1550.755734  0.0  11.035195   87.433556  39.726419   5.815753   \n",
       "13    2716.466704  0.0  11.335504  113.712599  39.678190   5.711884   \n",
       "14    2996.717394  0.0   8.453433    6.557225  34.401529 -12.853168   \n",
       "15    3736.845170  0.0   4.892491   57.993204  38.292862   2.951854   \n",
       "16    3923.826326  0.0   5.671622  241.759010  40.924812   7.777229   \n",
       "17    2422.188367  0.0   6.515821  137.180973  40.953901   6.843575   \n",
       "18     540.580345  0.0  11.376156   88.981424  39.614397   5.975568   \n",
       "\n",
       "               p6         p7        p8            p9        p10        p11  \\\n",
       "0       97.231621  18.742366  7.112393    591.309724  13.248310   2.370349   \n",
       "1     -662.074440  10.034450  2.047245    131.519542  22.379151   5.448249   \n",
       "2      421.671542  13.438074  2.278754    195.225712  21.330997   5.649309   \n",
       "3     1075.995995  12.948123  2.585378  -1170.929100  12.869670   0.063762   \n",
       "4  -120847.356183   1.904650  3.136547    648.252931   2.333418  15.566476   \n",
       "5     -452.955178   7.974559  0.429986   -458.813868   9.575484   2.317155   \n",
       "6   -31667.714939  10.761749  2.838052  30592.963951  10.803438   2.795103   \n",
       "7     -933.205900   9.805748  1.928269     55.695141  24.984512   4.808219   \n",
       "8     -397.332319  18.119297  3.291047   -252.870711  25.070408  -6.816345   \n",
       "9    -6434.901746  19.218760  2.301729   6238.739997  19.246096   2.264706   \n",
       "10    -533.005637   8.546782  3.072524     11.831760  29.437753  10.623775   \n",
       "11    -521.546836   9.343548  2.661157     29.263185  20.446359  -5.534250   \n",
       "12    -569.749818   8.817977  3.706950   -127.378714  15.332889   4.756332   \n",
       "13    -749.746510   9.034812  3.014664   -393.592857  12.645454   6.595293   \n",
       "14    -558.292533   9.357526  3.814723     14.030269  21.425619  -4.132083   \n",
       "15   -1100.057302   4.834551  0.483267     63.793222  41.939907  -2.682991   \n",
       "16      22.927589 -54.109687 -1.129035   -186.847895  42.747027  10.225840   \n",
       "17     201.287086  13.608226  2.391022    -61.405407  44.353764  -9.645276   \n",
       "18      43.114260  24.171225  4.114984   -199.563089   9.515347  -1.919337   \n",
       "\n",
       "             p12           p13       p14       p15  \n",
       "0   4.007375e+06 -4.007371e+06  0.059293 -0.000362  \n",
       "1  -4.174105e+06  4.174124e+06 -0.153682  0.000342  \n",
       "2  -4.004643e+06  4.004658e+06 -0.106929  0.000196  \n",
       "3   4.006012e+06 -4.005941e+06 -1.055401  0.003857  \n",
       "4   3.986794e+06 -3.986792e+06  0.089456 -0.000504  \n",
       "5  -3.986469e+06  3.986496e+06 -0.356655  0.001224  \n",
       "6   3.986620e+06 -3.986591e+06 -0.359720  0.001213  \n",
       "7   3.986561e+06 -3.986577e+06  0.402336 -0.001683  \n",
       "8  -1.288651e+07  1.288652e+07 -0.044488 -0.000039  \n",
       "9  -4.144934e+06  4.144962e+06 -0.298367  0.000869  \n",
       "10  3.986080e+06 -3.986075e+06 -0.005645 -0.000062  \n",
       "11 -3.986755e+06  3.986760e+06  0.025085 -0.000234  \n",
       "12 -3.986625e+06  3.986627e+06  0.049132 -0.000256  \n",
       "13 -3.986391e+06  3.986397e+06 -0.014570 -0.000013  \n",
       "14  3.986605e+06 -3.986606e+06  0.028582 -0.000140  \n",
       "15  3.967582e+06 -3.967551e+06 -0.444996  0.001584  \n",
       "16  3.988184e+06 -3.988154e+06 -0.388302  0.001309  \n",
       "17 -3.986415e+06  3.986427e+06 -0.106271  0.000288  \n",
       "18 -3.986499e+06  3.986506e+06 -0.006139 -0.000117  "
      ]
     },
     "execution_count": 7746,
     "metadata": {},
     "output_type": "execute_result"
    }
   ],
   "source": [
    "df_xray"
   ]
  },
  {
   "cell_type": "code",
   "execution_count": 7955,
   "id": "8b8b1293-6884-48b0-97ff-50f3e4692e35",
   "metadata": {},
   "outputs": [
    {
     "data": {
      "text/plain": [
       "0      6.407664\n",
       "1      6.338374\n",
       "2      5.545996\n",
       "3      4.987642\n",
       "4      5.431014\n",
       "5      4.305982\n",
       "6      4.807609\n",
       "7      5.599198\n",
       "8      4.791082\n",
       "9      6.514900\n",
       "10     4.337209\n",
       "11     5.624028\n",
       "12     4.510344\n",
       "13     5.344694\n",
       "14    11.673513\n",
       "15     5.273692\n",
       "16     5.308173\n",
       "17     4.322895\n",
       "18     5.655115\n",
       "dtype: float64"
      ]
     },
     "execution_count": 7955,
     "metadata": {},
     "output_type": "execute_result"
    }
   ],
   "source": [
    "(np.sqrt(df_ecap['p2']**2+df_ecap['p5']**2+df_xray['p5']**2)-intercept)/slope"
   ]
  },
  {
   "cell_type": "code",
   "execution_count": 7792,
   "id": "977bf394-e837-4374-9f5c-c457418a2161",
   "metadata": {},
   "outputs": [],
   "source": [
    "eV = [22.59,363.758,387.461]"
   ]
  },
  {
   "cell_type": "code",
   "execution_count": 7793,
   "id": "07803f4d-a537-4d62-b32e-d1c2c11c0823",
   "metadata": {},
   "outputs": [],
   "source": [
    "adc = [df_xray['p4'][0],df_ecap['p1'][0],df_ecap['p4'][0]]"
   ]
  },
  {
   "cell_type": "code",
   "execution_count": 7795,
   "id": "90272e74-f6aa-4cf4-b032-954f61bb2710",
   "metadata": {},
   "outputs": [],
   "source": [
    "# x = [parameters_lower[4],(parameters_lower[4]*27.3523/22.59),parameters[1],parameters[4],(parameters[4]*390.872/387.461)]\n",
    "# y = [22.59,27.352,363.758,387.461,390.872]\n",
    "a, b = np.polyfit(eV, adc, deg=1)"
   ]
  },
  {
   "cell_type": "code",
   "execution_count": 7802,
   "id": "332a8d63-4b0c-40ba-92da-84d1c43b958f",
   "metadata": {},
   "outputs": [],
   "source": [
    "x = np.arange(0,600)"
   ]
  },
  {
   "cell_type": "code",
   "execution_count": 7803,
   "id": "c634f05c-95bf-4216-9732-898052296e44",
   "metadata": {},
   "outputs": [],
   "source": [
    "fit = a*x+b"
   ]
  },
  {
   "cell_type": "code",
   "execution_count": 7810,
   "id": "2ab24e9f-8f8e-48b1-b917-569ed9ecc1de",
   "metadata": {},
   "outputs": [],
   "source": [
    "def cal_fit(x,a,b):\n",
    "    return a*x+b"
   ]
  },
  {
   "cell_type": "code",
   "execution_count": null,
   "id": "94bfd66a-df02-4d30-9294-022fe07c910b",
   "metadata": {},
   "outputs": [],
   "source": [
    "adc = [df_xray['p4'][0],df_ecap['p1'][0],df_ecap['p4'][0]]"
   ]
  },
  {
   "cell_type": "code",
   "execution_count": 7811,
   "id": "ccb22eda-0bcd-4a4c-b0e0-fd24c7d6dabc",
   "metadata": {},
   "outputs": [],
   "source": [
    "fit_pars = []\n",
    "for i in range(len(g)):\n",
    "    adc = [df_xray['p4'][i],df_ecap['p1'][i],df_ecap['p4'][i]]\n",
    "    a, b = np.polyfit(eV, adc, deg=1)\n",
    "    fit_pars.append([a,b])"
   ]
  },
  {
   "cell_type": "code",
   "execution_count": 7827,
   "id": "60982e93-76b5-494c-bd53-f3c6aca10e14",
   "metadata": {},
   "outputs": [
    {
     "data": {
      "text/plain": [
       "[[1.6331934046677412, 1.7653748829264568],\n",
       " [1.6482196451421345, 1.3368556664651747],\n",
       " [1.6432927576151777, 2.4923677195306615],\n",
       " [1.6353061274603895, 2.679724015099539],\n",
       " [1.6474209461047407, 2.4315517599883756],\n",
       " [1.6447836941281206, 2.8343962579415245],\n",
       " [1.6245552424731364, 2.4900563278893264],\n",
       " [1.6568386373572273, 1.6761663522529116],\n",
       " [1.640818666848039, 3.7962856059408585],\n",
       " [1.6341724668909123, 2.695272499725928],\n",
       " [1.6447099887855212, 2.685120232844903],\n",
       " [1.627976206964344, 2.6641080466380336],\n",
       " [1.643922867022449, 2.565679740432332],\n",
       " [1.633560747209602, 2.7453897693011178],\n",
       " [1.6308696246327905, -2.1442969227680795],\n",
       " [1.6349803429333791, 1.36820353020375],\n",
       " [1.6214249265328087, 4.229433576206439],\n",
       " [1.6321958915391581, 4.05448352429826],\n",
       " [1.6457398891344042, 2.4300449802630766]]"
      ]
     },
     "execution_count": 7827,
     "metadata": {},
     "output_type": "execute_result"
    }
   ],
   "source": [
    "fit_pars[]"
   ]
  },
  {
   "cell_type": "code",
   "execution_count": 7954,
   "id": "144cd440-5be7-494f-8d6c-6707746d6e16",
   "metadata": {},
   "outputs": [],
   "source": [
    "slope = np.array(fit_pars)[:,0]\n",
    "intercept = np.array(fit_pars)[:,1]"
   ]
  },
  {
   "cell_type": "code",
   "execution_count": 7868,
   "id": "70759f25-0ab4-4889-a808-a39c9af6ec99",
   "metadata": {},
   "outputs": [
    {
     "data": {
      "text/plain": [
       "(array([0., 0., 0., 0., 0., 0., 0., 0., 0., 0., 0., 1., 0., 0., 1., 0., 0.,\n",
       "        1., 0., 0., 1., 0., 1., 2., 2., 1., 0., 0., 0., 0., 1., 0., 0., 2.,\n",
       "        2., 1., 0., 1., 1., 0., 0., 0., 0., 0., 0., 0., 1., 0., 0., 0., 0.,\n",
       "        0., 0., 0., 0., 0., 0., 0., 0.]),\n",
       " array([1.61 , 1.611, 1.612, 1.613, 1.614, 1.615, 1.616, 1.617, 1.618,\n",
       "        1.619, 1.62 , 1.621, 1.622, 1.623, 1.624, 1.625, 1.626, 1.627,\n",
       "        1.628, 1.629, 1.63 , 1.631, 1.632, 1.633, 1.634, 1.635, 1.636,\n",
       "        1.637, 1.638, 1.639, 1.64 , 1.641, 1.642, 1.643, 1.644, 1.645,\n",
       "        1.646, 1.647, 1.648, 1.649, 1.65 , 1.651, 1.652, 1.653, 1.654,\n",
       "        1.655, 1.656, 1.657, 1.658, 1.659, 1.66 , 1.661, 1.662, 1.663,\n",
       "        1.664, 1.665, 1.666, 1.667, 1.668, 1.669]),\n",
       " <BarContainer object of 59 artists>)"
      ]
     },
     "execution_count": 7868,
     "metadata": {},
     "output_type": "execute_result"
    },
    {
     "data": {
      "image/png": "[encoded data removed]",
      "text/plain": [
       "<Figure size 640x480 with 1 Axes>"
      ]
     },
     "metadata": {},
     "output_type": "display_data"
    }
   ],
   "source": [
    "plt.hist(slope,bins = np.arange(1.61,1.67,0.001))"
   ]
  },
  {
   "cell_type": "code",
   "execution_count": 7957,
   "id": "11b79c6f-cda3-4169-b838-ee89060c6aa8",
   "metadata": {},
   "outputs": [
    {
     "data": {
      "image/png": "[encoded data removed]",
      "text/plain": [
       "<Figure size 640x480 with 1 Axes>"
      ]
     },
     "metadata": {},
     "output_type": "display_data"
    }
   ],
   "source": [
    "for i in range(len(g)):\n",
    "    plt.scatter(eV,adc,marker = '.',label = '%d'%i)\n",
    "    plt.plot(x,cal_fit(x,fit_pars[i][0],fit_pars[i][1]),linestyle = ':')\n",
    "plt.legend()\n",
    "# plt.xlim(0,100)\n",
    "plt.show()"
   ]
  },
  {
   "cell_type": "code",
   "execution_count": 7828,
   "id": "436f16d3-d2df-4d1b-87bd-70b1907fb745",
   "metadata": {},
   "outputs": [],
   "source": [
    "# df_xray['p4'],df_xray['p4']*(27.3523/22.59)"
   ]
  },
  {
   "cell_type": "code",
   "execution_count": 7829,
   "id": "2b0d9e2e-7e0b-4cea-b133-16e8e1610888",
   "metadata": {},
   "outputs": [],
   "source": [
    "# df_ecap['p1'],df_ecap['p4'],df_ecap['p4']*(390.872/387.461)"
   ]
  },
  {
   "cell_type": "code",
   "execution_count": 7586,
   "id": "38a6ead9-c3fe-485c-b647-6666f21f28dc",
   "metadata": {},
   "outputs": [
    {
     "data": {
      "image/png": "[encoded data removed]",
      "text/plain": [
       "<Figure size 640x480 with 1 Axes>"
      ]
     },
     "metadata": {},
     "output_type": "display_data"
    }
   ],
   "source": [
    "x = np.arange(500,800)\n",
    "for i in range(len(g)):\n",
    "    plt.plot(x,gaus(x,*np.float_(g['ecap'][i].replace('[','').replace(']','').split(','))),label = '%d'%i)\n",
    "# plt.legend()\n",
    "\n",
    "x = np.arange(0,100)\n",
    "for i in range(len(g)):\n",
    "    # if i !=2 and i!=7 and i!=8 and i!=11:\n",
    "    if i==18:\n",
    "        plt.plot(x,gaus_poly(x,*np.float_(g['xray'][i])),label = '%d'%i)\n",
    "    else:\n",
    "        plt.plot(x,gaus_poly(x,*np.float_(g['xray'][i].replace('[','').replace(']','').split(','))),label = '%d'%i)\n",
    "plt.legend()   \n",
    "plt.ylim(0,1000)\n",
    "plt.show()"
   ]
  },
  {
   "cell_type": "code",
   "execution_count": 7783,
   "id": "5aea9de9-094e-4c6c-b6b9-c845c7509f70",
   "metadata": {},
   "outputs": [
    {
     "data": {
      "image/png": "[encoded data removed]",
      "text/plain": [
       "<Figure size 640x480 with 1 Axes>"
      ]
     },
     "metadata": {},
     "output_type": "display_data"
    }
   ],
   "source": [
    "x = np.arange(0,100)\n",
    "for i in range(len(g)):\n",
    "    # if i !=2 and i!=7 and i!=8 and i!=11:\n",
    "    if i==18:\n",
    "        plt.plot(x,gaus_poly(x,*np.float_(g['xray'][i])),label = '%d'%i)\n",
    "    else:\n",
    "        plt.plot(x,gaus_poly(x,*np.float_(g['xray'][i].replace('[','').replace(']','').split(','))),label = '%d'%i)\n",
    "plt.legend()   \n",
    "plt.ylim(0,1000)\n",
    "plt.show()"
   ]
  },
  {
   "cell_type": "code",
   "execution_count": null,
   "id": "f493cd4e-59dd-47f1-b309-318ed17bdbcb",
   "metadata": {},
   "outputs": [],
   "source": []
  },
  {
   "cell_type": "code",
   "execution_count": 7784,
   "id": "ed4fab22-c49d-4f30-9d7b-5bb49df29c7f",
   "metadata": {},
   "outputs": [
    {
     "data": {
      "image/png": "[encoded data removed]",
      "text/plain": [
       "<Figure size 640x480 with 1 Axes>"
      ]
     },
     "metadata": {},
     "output_type": "display_data"
    }
   ],
   "source": [
    "plt.plot(x,gaus_poly(x,*np.float_(g['xray'][2].replace('[','').replace(']','').split(','))),label = '%d'%i)\n",
    "plt.legend()   \n",
    "plt.show()"
   ]
  },
  {
   "cell_type": "code",
   "execution_count": 6802,
   "id": "5a857c20-9e08-4e47-8d7d-0f72364c55e4",
   "metadata": {},
   "outputs": [],
   "source": [
    "l = [76,  77,  78,  87,  88,  96,  97,  98, 101, 103, 105, 107, 109, 113, 115, 116, 118, 121, 122, 123, 124]"
   ]
  },
  {
   "cell_type": "code",
   "execution_count": 6825,
   "id": "18f5047b-6cc9-4fbf-948a-07072292e15c",
   "metadata": {},
   "outputs": [],
   "source": [
    "file = open('/Users/arleeshelby/manitoba_pixel_list.txt','r')\n",
    "a = file.read()"
   ]
  },
  {
   "cell_type": "code",
   "execution_count": 6823,
   "id": "f89bc2b2-c2a0-412e-b188-9f9b1f2530c2",
   "metadata": {},
   "outputs": [],
   "source": [
    "np.int_(a.split(',')).tolist()"
   ]
  },
  {
   "cell_type": "code",
   "execution_count": 6796,
   "id": "e629aef2-3f53-4696-adaa-660d4c89f76a",
   "metadata": {},
   "outputs": [],
   "source": [
    "b = []\n",
    "b.append(parameters.tolist())\n",
    "b.append(parameters_lower.tolist())\n",
    "b.append(0)"
   ]
  },
  {
   "cell_type": "code",
   "execution_count": 6681,
   "id": "164bab7a-167b-4d4e-bf84-ca851dbb1d29",
   "metadata": {},
   "outputs": [],
   "source": [
    "with open('eggs.csv','w') as f:\n",
    "    fieldnames = ['Run','ecap']\n",
    "    writer = csv.DictWriter(f,fieldnames = fieldnames)\n",
    "    writer.writeheader()\n",
    "    df = {}\n",
    "    df['Run'] = {}\n",
    "    \n",
    "    writer.writerow({'Run':1374,'ecap':parameters.tolist()})\n",
    "    writer.writerow({'Run':1374,'ecap':parameters_lower.tolist()})\n",
    "    f.close()"
   ]
  },
  {
   "cell_type": "code",
   "execution_count": null,
   "id": "77652d21-672f-4baf-b7db-01ffee100ae6",
   "metadata": {},
   "outputs": [],
   "source": []
  },
  {
   "cell_type": "code",
   "execution_count": null,
   "id": "3997e375-6a66-4d79-b704-e9f731331d6b",
   "metadata": {},
   "outputs": [],
   "source": []
  },
  {
   "cell_type": "code",
   "execution_count": 6833,
   "id": "7148e3d1-bbc7-4a21-854f-d170a1c61ddb",
   "metadata": {},
   "outputs": [],
   "source": [
    "par_76 = [float(i) for i in a[2]]\n",
    "par_76_low = [float(i) for i in a[3]]"
   ]
  },
  {
   "cell_type": "code",
   "execution_count": 6834,
   "id": "5c2cf752-3e3d-4e7b-87c4-a8ba7b604f83",
   "metadata": {},
   "outputs": [
    {
     "data": {
      "text/plain": [
       "([58.831, 595.812, 7.152, 10.961, 634.602, 7.45, 0.002, 0.0, -0.422, 0.716],\n",
       " [8066.517,\n",
       "  0.0,\n",
       "  6.818,\n",
       "  221.24,\n",
       "  38.662,\n",
       "  6.552,\n",
       "  97.232,\n",
       "  18.742,\n",
       "  7.112,\n",
       "  591.31,\n",
       "  13.248,\n",
       "  2.37,\n",
       "  4007374.669,\n",
       "  -4007370.776,\n",
       "  0.059,\n",
       "  -0.0])"
      ]
     },
     "execution_count": 6834,
     "metadata": {},
     "output_type": "execute_result"
    }
   ],
   "source": [
    "par_76,par_76_low"
   ]
  },
  {
   "cell_type": "code",
   "execution_count": 6315,
   "id": "4a635c29-ed15-4881-8a1f-891def310e86",
   "metadata": {},
   "outputs": [
    {
     "data": {
      "image/png": "[encoded data removed]",
      "text/plain": [
       "<Figure size 640x480 with 1 Axes>"
      ]
     },
     "metadata": {},
     "output_type": "display_data"
    },
    {
     "data": {
      "image/png": "[encoded data removed]",
      "text/plain": [
       "<Figure size 640x480 with 1 Axes>"
      ]
     },
     "metadata": {},
     "output_type": "display_data"
    }
   ],
   "source": [
    "x = np.arange(500, 700,0.01)\n",
    "plt.plot(x,gaus(x,*par_76))\n",
    "plt.hist(results.data()['energy'],bins=Nab.np.arange(500, 700))\n",
    "\n",
    "# y = parameters[3]*(x[x<parameters[1]-parameters[2]]-parameters[1])+parameters[4]\n",
    "# y2 = parameters[5]*(x[x>parameters[1]+parameters[2]]-parameters[1])+parameters[6]\n",
    "# y3 = parameters[0]*np.exp(-1* ((x-parameters[1])/parameters[2])**2) + parameters[-1]\n",
    "# plt.plot(x[x<parameters[1]-parameters[2]],y)\n",
    "# plt.plot(x[x>parameters[1]+parameters[2]],y2)\n",
    "# plt.plot(x,y3)\n",
    "# plt.ylim(0,10)\n",
    "# plt.yscale('log')\n",
    "plt.show()\n",
    "\n",
    "x_lower = np.arange(0,80,0.1)\n",
    "plt.plot(x_lower,gaus_poly(x_lower,*par_76_low))\n",
    "plt.hist(results.data()['energy'],bins=Nab.np.arange(5, 80))\n",
    "\n",
    "\n",
    "# plt.ylim(0,1000)\n",
    "# plt.yscale('log')\n",
    "plt.show()"
   ]
  },
  {
   "cell_type": "code",
   "execution_count": 6835,
   "id": "8920197c-c6cc-4fdd-8d16-8f8ad03d9cbc",
   "metadata": {},
   "outputs": [],
   "source": [
    "mask = []\n",
    "index = []\n",
    "for i in range(len(a)):\n",
    "    # print(np.where(a[i][0] == '1374')[0])\n",
    "    if np.where(a[i][0] == '1374')[0]==0:\n",
    "        mask.append(True)\n",
    "        index.append(i)\n",
    "    else:\n",
    "        mask.append(False)\n",
    "        index.append(i)"
   ]
  },
  {
   "cell_type": "code",
   "execution_count": 6836,
   "id": "dc248d86-92f6-468b-a354-46397f306b1c",
   "metadata": {},
   "outputs": [
    {
     "data": {
      "text/plain": [
       "array([list(['1374', '76']), list(['1374', '77']), list(['1374', '78']),\n",
       "       list(['1374', '87']), list(['1374', '88']), list(['1374', '96']),\n",
       "       list(['1374', '97']), list(['1374', '98']), list(['1374', '101']),\n",
       "       list(['1374', '103']), list(['1374', '105']),\n",
       "       list(['1374', '107']), list(['1374', '109']),\n",
       "       list(['1374', '113']), list(['1374', '115']),\n",
       "       list(['1374', '116']), list(['1374', '118']),\n",
       "       list(['1374', '121']), list(['1374', '122']),\n",
       "       list(['1374', '123']), list(['1374', '124'])], dtype=object)"
      ]
     },
     "execution_count": 6836,
     "metadata": {},
     "output_type": "execute_result"
    }
   ],
   "source": [
    "np.array(a,dtype=object)[mask]"
   ]
  },
  {
   "cell_type": "code",
   "execution_count": null,
   "id": "38cf6075-f322-4d96-b533-eea0935b6fa8",
   "metadata": {},
   "outputs": [],
   "source": []
  },
  {
   "cell_type": "code",
   "execution_count": 7871,
   "id": "fa9b63c2-19b3-4a44-b17d-a6cb5a54a42c",
   "metadata": {},
   "outputs": [],
   "source": [
    "with open('/Users/arleeshelby/manitobametadata_filters.csv') as file:\n",
    "    reader = csv.reader(file)\n",
    "    v = pd.DataFrame([reader])"
   ]
  },
  {
   "cell_type": "code",
   "execution_count": 7886,
   "id": "aacff9f4-33b9-40f4-be1c-0030188cc630",
   "metadata": {},
   "outputs": [],
   "source": [
    "df = pd.read_table('/Users/arleeshelby/manitobametadata_filters.csv',delimiter = '|')"
   ]
  },
  {
   "cell_type": "code",
   "execution_count": 7936,
   "id": "edb618fb-923d-4c98-9374-5b43dd3369fc",
   "metadata": {},
   "outputs": [
    {
     "data": {
      "text/plain": [
       "'Date Time [UTC]'"
      ]
     },
     "execution_count": 7936,
     "metadata": {},
     "output_type": "execute_result"
    }
   ],
   "source": [
    "df.columns[14]"
   ]
  },
  {
   "cell_type": "code",
   "execution_count": 7933,
   "id": "08442f82-873a-4878-945e-a8ebfaab9c72",
   "metadata": {},
   "outputs": [
    {
     "data": {
      "text/plain": [
       "'01-26-2022 Sn113 Partial Bias Scan + 3hr -300V Bias Run'"
      ]
     },
     "execution_count": 7933,
     "metadata": {},
     "output_type": "execute_result"
    }
   ],
   "source": [
    "np.array(df['Main Directory'][df['RunID']==1374])[0]"
   ]
  },
  {
   "cell_type": "code",
   "execution_count": null,
   "id": "c936036c-e71e-4651-adcb-4ffe2e6256a8",
   "metadata": {},
   "outputs": [],
   "source": [
    "np.array(df['timestamp'][df['RunID']==1374])[0]"
   ]
  },
  {
   "cell_type": "code",
   "execution_count": 7944,
   "id": "2e011082-1af5-4f50-a095-8e84d7981b5e",
   "metadata": {},
   "outputs": [
    {
     "name": "stdout",
     "output_type": "stream",
     "text": [
      "Proton\n",
      "Proton Energy\n",
      "Cd109\n",
      "Sn113\n",
      "Date Time [UTC]\n"
     ]
    }
   ],
   "source": [
    "dirt = []\n",
    "for i in range(10,15):\n",
    "    dirt.append(np.array(df[df.columns[i]][df['RunID']==1374])[0])\n",
    "    print(df.columns[i])"
   ]
  },
  {
   "cell_type": "code",
   "execution_count": 7939,
   "id": "22db3d22-91eb-414a-ba56-83d5050c0fba",
   "metadata": {},
   "outputs": [
    {
     "data": {
      "text/plain": [
       "[False, 0, False, True, '2022-01-27 00:08']"
      ]
     },
     "execution_count": 7939,
     "metadata": {},
     "output_type": "execute_result"
    }
   ],
   "source": [
    "dirt"
   ]
  },
  {
   "cell_type": "code",
   "execution_count": 7940,
   "id": "67acb87b-8d72-4dd0-bf36-835784efbf2c",
   "metadata": {},
   "outputs": [
    {
     "data": {
      "text/plain": [
       "'Date Time [UTC]'"
      ]
     },
     "execution_count": 7940,
     "metadata": {},
     "output_type": "execute_result"
    }
   ],
   "source": [
    "df.columns[i]"
   ]
  },
  {
   "cell_type": "code",
   "execution_count": null,
   "id": "91cdd3b6-9a13-4f92-ad48-bfe4804aaa89",
   "metadata": {},
   "outputs": [],
   "source": []
  }
 ],
 "metadata": {
  "kernelspec": {
   "display_name": "pyNab_kernel",
   "language": "python",
   "name": "manitobawork_1374"
  },
  "language_info": {
   "codemirror_mode": {
    "name": "ipython",
    "version": 3
   },
   "file_extension": ".py",
   "mimetype": "text/x-python",
   "name": "python",
   "nbconvert_exporter": "python",
   "pygments_lexer": "ipython3",
   "version": "3.11.4"
  }
 },
 "nbformat": 4,
 "nbformat_minor": 5
}
