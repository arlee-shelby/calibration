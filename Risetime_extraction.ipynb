{
 "cells": [
  {
   "cell_type": "code",
   "execution_count": 1,
   "id": "3e746ac5",
   "metadata": {},
   "outputs": [],
   "source": [
    "import numpy as np\n",
    "import matplotlib.pyplot as plt\n",
    "from scipy.optimize import curve_fit\n",
    "from scipy.special import erf\n",
    "import csv\n",
    "import sys\n",
    "sys.path.append('/storage/home/hcoda1/4/ashelby8/Manitoba/pyNab/src/')\n",
    "import nabPy as Nab"
   ]
  },
  {
   "cell_type": "code",
   "execution_count": 2,
   "id": "3c704d0b",
   "metadata": {},
   "outputs": [
    {
     "name": "stdout",
     "output_type": "stream",
     "text": [
      "CPU times: user 7 s, sys: 19.6 s, total: 26.6 s\n",
      "Wall time: 15min 26s\n"
     ]
    }
   ],
   "source": [
    "%%time\n",
    "\n",
    "runNumber = 1374\n",
    "directory = '/storage/home/hcoda1/4/ashelby8/scratch/ManitobaData/'\n",
    "run = Nab.DataRun(directory, runNumber, ignoreEventFile = True)"
   ]
  },
  {
   "cell_type": "code",
   "execution_count": 3,
   "id": "1c87b362",
   "metadata": {},
   "outputs": [
    {
     "name": "stdout",
     "output_type": "stream",
     "text": [
      "CPU times: user 31.4 s, sys: 1.06 s, total: 32.5 s\n",
      "Wall time: 17.9 s\n"
     ]
    }
   ],
   "source": [
    "%%time\n",
    "\n",
    "run.singleWaves().resetCuts()\n",
    "run.singleWaves().defineCut('pixel', '=', 76)\n",
    "\n",
    "results = run.singleWaves().determineEnergyTiming(method='trap', params=[1250, 50, 1250])"
   ]
  },
  {
   "cell_type": "code",
   "execution_count": 4,
   "id": "28a9f32f",
   "metadata": {},
   "outputs": [
    {
     "data": {
      "text/plain": [
       "nabPy.resultFileClass.resultFile"
      ]
     },
     "execution_count": 4,
     "metadata": {},
     "output_type": "execute_result"
    }
   ],
   "source": [
    "type(results)"
   ]
  },
  {
   "cell_type": "code",
   "execution_count": 5,
   "id": "1e8ff2ed",
   "metadata": {},
   "outputs": [],
   "source": [
    "results.resetCuts()\n",
    "results.defineCut('energy', 'between', 583.20802273, 605.9849158)\n",
    "cut = results.returnCut()\n",
    "run.singleWaves().defineCut('custom', cut)"
   ]
  },
  {
   "cell_type": "code",
   "execution_count": 6,
   "id": "8e9f42e7",
   "metadata": {},
   "outputs": [
    {
     "data": {
      "text/html": [
       "<div>\n",
       "<style scoped>\n",
       "    .dataframe tbody tr th:only-of-type {\n",
       "        vertical-align: middle;\n",
       "    }\n",
       "\n",
       "    .dataframe tbody tr th {\n",
       "        vertical-align: top;\n",
       "    }\n",
       "\n",
       "    .dataframe thead th {\n",
       "        text-align: right;\n",
       "    }\n",
       "</style>\n",
       "<table border=\"1\" class=\"dataframe\">\n",
       "  <thead>\n",
       "    <tr style=\"text-align: right;\">\n",
       "      <th></th>\n",
       "      <th>result</th>\n",
       "      <th>eventid</th>\n",
       "      <th>bc</th>\n",
       "      <th>timestamp</th>\n",
       "      <th>req</th>\n",
       "      <th>source</th>\n",
       "      <th>length</th>\n",
       "      <th>board</th>\n",
       "      <th>channel</th>\n",
       "      <th>unix timestamp</th>\n",
       "      <th>pixel</th>\n",
       "    </tr>\n",
       "  </thead>\n",
       "  <tbody>\n",
       "    <tr>\n",
       "      <th>257</th>\n",
       "      <td>1</td>\n",
       "      <td>48</td>\n",
       "      <td>17</td>\n",
       "      <td>872892242</td>\n",
       "      <td>878684890</td>\n",
       "      <td>0</td>\n",
       "      <td>7000</td>\n",
       "      <td>2</td>\n",
       "      <td>1</td>\n",
       "      <td>4.108105e+17</td>\n",
       "      <td>76</td>\n",
       "    </tr>\n",
       "    <tr>\n",
       "      <th>1814</th>\n",
       "      <td>1</td>\n",
       "      <td>353</td>\n",
       "      <td>17</td>\n",
       "      <td>6639450142</td>\n",
       "      <td>6644045744</td>\n",
       "      <td>0</td>\n",
       "      <td>7000</td>\n",
       "      <td>2</td>\n",
       "      <td>1</td>\n",
       "      <td>4.108105e+17</td>\n",
       "      <td>76</td>\n",
       "    </tr>\n",
       "    <tr>\n",
       "      <th>3371</th>\n",
       "      <td>1</td>\n",
       "      <td>660</td>\n",
       "      <td>17</td>\n",
       "      <td>12284433064</td>\n",
       "      <td>12290121338</td>\n",
       "      <td>0</td>\n",
       "      <td>7000</td>\n",
       "      <td>2</td>\n",
       "      <td>1</td>\n",
       "      <td>4.108105e+17</td>\n",
       "      <td>76</td>\n",
       "    </tr>\n",
       "    <tr>\n",
       "      <th>7601</th>\n",
       "      <td>1</td>\n",
       "      <td>1489</td>\n",
       "      <td>17</td>\n",
       "      <td>26992189754</td>\n",
       "      <td>26997868922</td>\n",
       "      <td>0</td>\n",
       "      <td>7000</td>\n",
       "      <td>2</td>\n",
       "      <td>1</td>\n",
       "      <td>4.108106e+17</td>\n",
       "      <td>76</td>\n",
       "    </tr>\n",
       "    <tr>\n",
       "      <th>8564</th>\n",
       "      <td>1</td>\n",
       "      <td>1679</td>\n",
       "      <td>17</td>\n",
       "      <td>30847967602</td>\n",
       "      <td>30853604970</td>\n",
       "      <td>0</td>\n",
       "      <td>7000</td>\n",
       "      <td>2</td>\n",
       "      <td>1</td>\n",
       "      <td>4.108106e+17</td>\n",
       "      <td>76</td>\n",
       "    </tr>\n",
       "    <tr>\n",
       "      <th>...</th>\n",
       "      <td>...</td>\n",
       "      <td>...</td>\n",
       "      <td>...</td>\n",
       "      <td>...</td>\n",
       "      <td>...</td>\n",
       "      <td>...</td>\n",
       "      <td>...</td>\n",
       "      <td>...</td>\n",
       "      <td>...</td>\n",
       "      <td>...</td>\n",
       "      <td>...</td>\n",
       "    </tr>\n",
       "    <tr>\n",
       "      <th>789173</th>\n",
       "      <td>1</td>\n",
       "      <td>152217</td>\n",
       "      <td>17</td>\n",
       "      <td>2607766398408</td>\n",
       "      <td>2607811247948</td>\n",
       "      <td>0</td>\n",
       "      <td>7000</td>\n",
       "      <td>2</td>\n",
       "      <td>1</td>\n",
       "      <td>4.108131e+17</td>\n",
       "      <td>76</td>\n",
       "    </tr>\n",
       "    <tr>\n",
       "      <th>789510</th>\n",
       "      <td>1</td>\n",
       "      <td>152283</td>\n",
       "      <td>17</td>\n",
       "      <td>2609219614890</td>\n",
       "      <td>2609265316696</td>\n",
       "      <td>0</td>\n",
       "      <td>7000</td>\n",
       "      <td>2</td>\n",
       "      <td>1</td>\n",
       "      <td>4.108131e+17</td>\n",
       "      <td>76</td>\n",
       "    </tr>\n",
       "    <tr>\n",
       "      <th>790263</th>\n",
       "      <td>1</td>\n",
       "      <td>152435</td>\n",
       "      <td>17</td>\n",
       "      <td>2611775805722</td>\n",
       "      <td>2611819925066</td>\n",
       "      <td>0</td>\n",
       "      <td>7000</td>\n",
       "      <td>2</td>\n",
       "      <td>1</td>\n",
       "      <td>4.108131e+17</td>\n",
       "      <td>76</td>\n",
       "    </tr>\n",
       "    <tr>\n",
       "      <th>790783</th>\n",
       "      <td>1</td>\n",
       "      <td>152537</td>\n",
       "      <td>17</td>\n",
       "      <td>2613751273108</td>\n",
       "      <td>2613796693356</td>\n",
       "      <td>0</td>\n",
       "      <td>7000</td>\n",
       "      <td>2</td>\n",
       "      <td>1</td>\n",
       "      <td>4.108131e+17</td>\n",
       "      <td>76</td>\n",
       "    </tr>\n",
       "    <tr>\n",
       "      <th>791737</th>\n",
       "      <td>1</td>\n",
       "      <td>152724</td>\n",
       "      <td>17</td>\n",
       "      <td>2617315553772</td>\n",
       "      <td>2617359484788</td>\n",
       "      <td>0</td>\n",
       "      <td>7000</td>\n",
       "      <td>2</td>\n",
       "      <td>1</td>\n",
       "      <td>4.108131e+17</td>\n",
       "      <td>76</td>\n",
       "    </tr>\n",
       "  </tbody>\n",
       "</table>\n",
       "<p>752 rows × 11 columns</p>\n",
       "</div>"
      ],
      "text/plain": [
       "        result  eventid  bc      timestamp            req  source  length  \\\n",
       "257          1       48  17      872892242      878684890       0    7000   \n",
       "1814         1      353  17     6639450142     6644045744       0    7000   \n",
       "3371         1      660  17    12284433064    12290121338       0    7000   \n",
       "7601         1     1489  17    26992189754    26997868922       0    7000   \n",
       "8564         1     1679  17    30847967602    30853604970       0    7000   \n",
       "...        ...      ...  ..            ...            ...     ...     ...   \n",
       "789173       1   152217  17  2607766398408  2607811247948       0    7000   \n",
       "789510       1   152283  17  2609219614890  2609265316696       0    7000   \n",
       "790263       1   152435  17  2611775805722  2611819925066       0    7000   \n",
       "790783       1   152537  17  2613751273108  2613796693356       0    7000   \n",
       "791737       1   152724  17  2617315553772  2617359484788       0    7000   \n",
       "\n",
       "        board  channel  unix timestamp  pixel  \n",
       "257         2        1    4.108105e+17     76  \n",
       "1814        2        1    4.108105e+17     76  \n",
       "3371        2        1    4.108105e+17     76  \n",
       "7601        2        1    4.108106e+17     76  \n",
       "8564        2        1    4.108106e+17     76  \n",
       "...       ...      ...             ...    ...  \n",
       "789173      2        1    4.108131e+17     76  \n",
       "789510      2        1    4.108131e+17     76  \n",
       "790263      2        1    4.108131e+17     76  \n",
       "790783      2        1    4.108131e+17     76  \n",
       "791737      2        1    4.108131e+17     76  \n",
       "\n",
       "[752 rows x 11 columns]"
      ]
     },
     "execution_count": 6,
     "metadata": {},
     "output_type": "execute_result"
    }
   ],
   "source": [
    "run.singleWaves().headers()"
   ]
  },
  {
   "cell_type": "code",
   "execution_count": 7,
   "id": "9e93faa5",
   "metadata": {},
   "outputs": [
    {
     "data": {
      "image/png": "[encoded data removed]",
      "text/plain": [
       "<Figure size 640x480 with 1 Axes>"
      ]
     },
     "metadata": {},
     "output_type": "display_data"
    }
   ],
   "source": [
    "results.resetCuts()\n",
    "# plt.hist(results.data()['energy'],bins=np.arange(585, 607),alpha=0.5)\n",
    "plt.hist(results.data()['energy'],bins=np.arange(0, 100),alpha=0.5)\n",
    "# plt.axvline(87)\n",
    "# plt.axvline(101)\n",
    "# plt.xlim(50,110)\n",
    "# plt.ylim(0,10000)\n",
    "plt.show()"
   ]
  },
  {
   "cell_type": "code",
   "execution_count": 8,
   "id": "824a2489",
   "metadata": {
    "scrolled": false
   },
   "outputs": [
    {
     "data": {
      "image/png": "[encoded data removed]",
      "text/plain": [
       "<Figure size 640x480 with 1 Axes>"
      ]
     },
     "metadata": {},
     "output_type": "display_data"
    }
   ],
   "source": [
    "results.resetCuts()\n",
    "plt.hist(results.data()['energy'],bins=np.arange(583.20802273, 605.9849158))\n",
    "plt.hist(results.data()['energy'],bins=np.arange(500, 615),alpha=0.5)\n",
    "# plt.axvline(87)\n",
    "# plt.axvline(101)\n",
    "# plt.xlim(50,110)\n",
    "# plt.ylim(0,10000)\n",
    "plt.show()"
   ]
  },
  {
   "cell_type": "code",
   "execution_count": 9,
   "id": "7a87df08",
   "metadata": {},
   "outputs": [
    {
     "data": {
      "text/plain": [
       "199"
      ]
     },
     "execution_count": 9,
     "metadata": {},
     "output_type": "execute_result"
    },
    {
     "data": {
      "image/png": "[encoded data removed]",
      "text/plain": [
       "<Figure size 640x480 with 1 Axes>"
      ]
     },
     "metadata": {},
     "output_type": "display_data"
    }
   ],
   "source": [
    "bins=np.arange(0, 200)\n",
    "len(plt.hist(results.data()['energy'],bins=np.arange(0, 200))[0])"
   ]
  },
  {
   "cell_type": "code",
   "execution_count": 10,
   "id": "0931cb95",
   "metadata": {},
   "outputs": [],
   "source": [
    "waves = run.singleWaves().waves()"
   ]
  },
  {
   "cell_type": "code",
   "execution_count": 11,
   "id": "36f6a570",
   "metadata": {},
   "outputs": [
    {
     "data": {
      "image/png": "[encoded data removed]",
      "text/plain": [
       "<Figure size 640x480 with 1 Axes>"
      ]
     },
     "metadata": {},
     "output_type": "display_data"
    }
   ],
   "source": [
    "for i in range(30,35):\n",
    "    plt.plot(waves[i],label = '%d'%i)\n",
    "    \n",
    "# plt.plot(waves[26])\n",
    "plt.legend()\n",
    "plt.show()"
   ]
  },
  {
   "cell_type": "code",
   "execution_count": 12,
   "id": "2c043a6a",
   "metadata": {},
   "outputs": [],
   "source": [
    "def wave_func(x, a,b,c,d,e,f):\n",
    "    return a + b*x + c*x**2.0 + d*np.exp(-(x-e)/1250.0) / (1.0 + np.exp(-(x-e)/f))"
   ]
  },
  {
   "cell_type": "code",
   "execution_count": 13,
   "id": "7239ba7a",
   "metadata": {},
   "outputs": [],
   "source": [
    "def wave_fit(wave, func, pretrig=3000,p0=None):\n",
    "    # print(wave,'wave')\n",
    "    # print(pretrig,'pretrig')\n",
    "    # print(len(wave),'len')\n",
    "    xdata = np.arange(0,len(wave))\n",
    "    \n",
    "    # print(xdata,'x')\n",
    "    \n",
    "    prewave = wave[0:int(pretrig)]\n",
    "    \n",
    "    # print(prewave,'prewave')\n",
    "    \n",
    "    base = np.average(prewave)\n",
    "    \n",
    "    # print(base,'base')\n",
    "    \n",
    "    ydata = wave - base\n",
    "    \n",
    "    # print(ydata,'y')\n",
    "    \n",
    "    if p0 == None:\n",
    "        popt, pcov = curve_fit(func, xdata, ydata,maxfev=4000)\n",
    "    \n",
    "    else:\n",
    "        try:\n",
    "            popt, pcov = curve_fit(func, xdata, ydata, p0)\n",
    "        except Exception as e:\n",
    "            plt.plot(wave)\n",
    "            return 0,0\n",
    "    # print(popt,'t')\n",
    "    # print(pcov,'v')\n",
    "    \n",
    "    return func(xdata, *popt)+ base, popt"
   ]
  },
  {
   "cell_type": "code",
   "execution_count": null,
   "id": "006246a3",
   "metadata": {},
   "outputs": [],
   "source": []
  },
  {
   "cell_type": "code",
   "execution_count": 14,
   "id": "25619655",
   "metadata": {},
   "outputs": [],
   "source": [
    "def risetime(wave,fit_mid,low=0.1, high=0.9,pretrigger=[3000,3400], cut=0,max_delay=0, max_length=50):\n",
    "    try:\n",
    "        shift = np.mean(wave[pretrigger[0]:pretrigger[1]])\n",
    "        wave = wave - shift\n",
    "        if max_delay == 0:\n",
    "            maxval = np.max(wave)\n",
    "        else:\n",
    "            maxval = np.mean(wave[3500+max_delay:3500+max_delay+max_length])\n",
    "\n",
    "    #     plt.axhline(maxval,color='orange')\n",
    "    #     print(maxval)\n",
    "\n",
    "        wave = wave[cut:]\n",
    "        xs = np.arange(len(wave))*4\n",
    "\n",
    "        upperCross = maxval * high\n",
    "        lowerCross = maxval * low\n",
    "    #     print(maxval)\n",
    "\n",
    "        x = np.arange(0,7000)\n",
    "    #     plt.axvline(fit_mid,color='black')\n",
    "    #     plt.plot(x[3470:3570],wave[3470:3570])\n",
    "    #     plt.axvline(upperCross,color = 'red')\n",
    "    #     plt.axvline(lowerCross,color = 'green')\n",
    "\n",
    "        upCrossPoint = np.argwhere(wave[int(fit_mid):]>upperCross)[0][0]+int(fit_mid)\n",
    "    #     upCrossPoint = np.argwhere(wave[int(fit_mid):]>upperCross)[0][0]+int(fit_mid)\n",
    "        lowCrossPoint = np.argwhere(wave[:int(fit_mid)]<lowerCross)[-1][0]+1\n",
    "\n",
    "    #     plt.axvline(upCrossPoint,color = 'red')\n",
    "    #     plt.axvline(lowCrossPoint,color = 'green')\n",
    "    #     print(lowerCross)\n",
    "    #     print(upCrossPoint,lowCrossPoint)\n",
    "        upper = np.interp(upperCross, wave[upCrossPoint-1:upCrossPoint+1], xs[upCrossPoint-1:upCrossPoint+1])\n",
    "        lower = np.interp(lowerCross, wave[lowCrossPoint-1:lowCrossPoint+1], xs[lowCrossPoint-1:lowCrossPoint+1])\n",
    "        # print(l)\n",
    "    #     print(upper)\n",
    "    #     print(lower)\n",
    "        return upper-lower, [lower/4+cut, upper/4+cut, maxval+shift]\n",
    "    except:\n",
    "        plt.plot(wave)\n",
    "        # plt.xlim(3400,3600)\n",
    "        plt.show()\n",
    "        return 0 , [0,0,0]"
   ]
  },
  {
   "cell_type": "code",
   "execution_count": 35,
   "id": "134ef91d",
   "metadata": {},
   "outputs": [],
   "source": [
    "def risetime1(wave,low=0.1, high=0.9,pretrigger=[3000,3400], cut=0,max_delay=0, max_length=50):\n",
    "    \n",
    "    shift = np.mean(wave[pretrigger[0]:pretrigger[1]])\n",
    "    wave = wave - shift\n",
    "    if max_delay == 0:\n",
    "        maxval = np.max(wave)\n",
    "    else:\n",
    "        maxval = np.mean(wave[3500+max_delay:3500+max_delay+max_length])\n",
    "        \n",
    "#     plt.axhline(maxval,color='orange')\n",
    "#     print(maxval)\n",
    "    \n",
    "    wave = wave[cut:]\n",
    "    xs = np.arange(len(wave))*4\n",
    "    \n",
    "    upperCross = maxval * high\n",
    "    lowerCross = maxval * low\n",
    "#     print(maxval)\n",
    "    \n",
    "    x = np.arange(0,7000)\n",
    "#     plt.axvline(fit_mid,color='black')\n",
    "#     plt.plot(x[3470:3570],wave[3470:3570])\n",
    "#     plt.axvline(upperCross,color = 'red')\n",
    "#     plt.axvline(lowerCross,color = 'green')\n",
    "\n",
    "    upCrossPoint = np.argwhere(wave>upperCross)[0][0]\n",
    "#     upCrossPoint = np.argwhere(wave[int(fit_mid):]>upperCross)[0][0]+int(fit_mid)\n",
    "    lowCrossPoint = np.argwhere(wave[:3600]<lowerCross)[-1][0]+1\n",
    "    \n",
    "#     plt.axvline(upCrossPoint,color = 'red')\n",
    "#     plt.axvline(lowCrossPoint,color = 'green')\n",
    "#     print(lowerCross)\n",
    "#     print(upCrossPoint,lowCrossPoint)\n",
    "    upper = np.interp(upperCross, wave[upCrossPoint-1:upCrossPoint+1], xs[upCrossPoint-1:upCrossPoint+1])\n",
    "    lower = np.interp(lowerCross, wave[lowCrossPoint-1:lowCrossPoint+1], xs[lowCrossPoint-1:lowCrossPoint+1])\n",
    "    # print(l)\n",
    "#     print(upper)\n",
    "#     print(lower)\n",
    "    return upper-lower, [lower/4+cut, upper/4+cut, maxval+shift]"
   ]
  },
  {
   "cell_type": "code",
   "execution_count": 36,
   "id": "1c1644f5",
   "metadata": {},
   "outputs": [],
   "source": [
    "# shift = np.mean(wave1[3000:3400])\n",
    "# wave1 = wave1-shift\n",
    "# np.argwhere(wave1[int(a1[1][4]):]>100)[-1]"
   ]
  },
  {
   "cell_type": "code",
   "execution_count": null,
   "id": "4721051c",
   "metadata": {},
   "outputs": [],
   "source": [
    "x = np.arange(0,7000)\n",
    "\n",
    "wave = waves[50].compute()\n",
    "wave1 = waves[500].compute()\n",
    "wave2 = waves[600].compute()\n",
    "\n",
    "plt.plot(x, wave)\n",
    "plt.plot(x, wave1)\n",
    "plt.plot(x, wave2)\n",
    "plt.show()"
   ]
  },
  {
   "cell_type": "code",
   "execution_count": null,
   "id": "5b861f15",
   "metadata": {},
   "outputs": [],
   "source": [
    "a = wave_fit(wave,wave_func,p0=[-5,5e-7,1e-10,-20,3500,10])\n",
    "a1 = wave_fit(wave1,wave_func,p0=[-5,5e-7,1e-10,-20,3500,10])\n",
    "a2 = wave_fit(wave2,wave_func,p0=[-5,5e-7,1e-10,-20,3500,10])"
   ]
  },
  {
   "cell_type": "code",
   "execution_count": null,
   "id": "50efbb5b",
   "metadata": {},
   "outputs": [],
   "source": [
    "plt.plot(x[3450:3600], wave2[3450:3600])\n",
    "# plt.xlim(1640,1670)\n",
    "# plt.ylim(4600,5300)\n",
    "plt.plot(x[3450:3600],a2[0][3450:3600])\n",
    "plt.show()"
   ]
  },
  {
   "cell_type": "code",
   "execution_count": null,
   "id": "a617fc56",
   "metadata": {},
   "outputs": [],
   "source": [
    "%%time\n",
    "fit_results = []\n",
    "for i in range(len(waves)):\n",
    "    fit_results.append(wave_fit(waves[i].compute(),wave_func,p0=[-5,5e-7,1e-10,-20,3500,10]))"
   ]
  },
  {
   "cell_type": "code",
   "execution_count": null,
   "id": "b66502c5",
   "metadata": {},
   "outputs": [],
   "source": [
    "x = np.arange(0,7000)\n",
    "for i in range(5):\n",
    "#     plt.plot(waves[i].compute())\n",
    "    # plt.plot(wave_func(x,*fit_results[0][1]))\n",
    "    plt.plot(fit_results[i][0])"
   ]
  },
  {
   "cell_type": "code",
   "execution_count": null,
   "id": "f9831b75",
   "metadata": {},
   "outputs": [],
   "source": [
    "def wave_oscill(x, a,b,c,d,e,f):\n",
    "    return a + b*x + c*x**2.0 + d*np.exp(-(x-e)/1250.0) / (1.0 + np.exp(-(x-e)/f))\n",
    "def oscill(x,a,b,c,d):\n",
    "    \n",
    "    return a*np.sin(b*x + c)**2+d"
   ]
  },
  {
   "cell_type": "code",
   "execution_count": null,
   "id": "1cba042e",
   "metadata": {},
   "outputs": [],
   "source": [
    "# xdata = np.arange(3440,3560)\n",
    "# par, err = curve_fit(wave_oscill, xdata, wave1[3440:3560],maxfev=8000,p0=[0.02,2e-5,2e-8,100,3500,2,25,0.3,-10])\n",
    "\n",
    "# xdata = np.arange(3440,3560)\n",
    "# par1, err = curve_fit(oscill, xdata, wave1[3440:3560],maxfev=8000,p0=[20,0.28,300,-8])\n"
   ]
  },
  {
   "cell_type": "code",
   "execution_count": null,
   "id": "bf54c4ea",
   "metadata": {},
   "outputs": [],
   "source": [
    "# def fourier(x, *params):\n",
    "#     params = np.array(params).reshape(-1,3)\n",
    "#     a = params[:, 0]\n",
    "#     b = params[:, 1]\n",
    "#     c = params[:, 2]\n",
    "#     ret = a[0] * np.sin(np.pi / b[0] * x)+ c[0]\n",
    "#     for deg in range(1, len(a)):\n",
    "#         ret += a[deg] * np.sin((deg+1) * np.pi / b[deg] * x)+ c[0]\n",
    "#     return ret\n",
    "\n",
    "# def fourier_expo(x,*params):\n",
    "# #     print(params[:-3])\n",
    "#     return fourier(x,*([params[-3:]]*10)) + wave_oscill(x,*params[:-3])\n",
    "# # num fourier terms\n",
    "# xdata = np.arange(3300,3440)\n",
    "                   \n",
    "# params, covariance = curve_fit(fourier, xdata, wave1[3300:3440], maxfev=50000,p0=[-0.2,0.8,-0.8]*40)\n",
    "                   \n",
    "                   \n",
    "                   "
   ]
  },
  {
   "cell_type": "code",
   "execution_count": null,
   "id": "973bb463",
   "metadata": {},
   "outputs": [],
   "source": [
    "# terms = 30\n",
    "# Y = np.fft.fft(wave1[3440:3490])\n",
    "\n",
    "# np.put(Y, range(terms+1, len(wave1[3440:3490])), 0.0) # zero-ing coefficients above \"terms\"\n",
    "# y_Fourier_1 = np.fft.ifft(Y)\n",
    "\n",
    "# time   = np.linspace(3440,3560,3000)\n",
    "# f_signal = np.fft.fft(wave1[3440:3560])\n",
    "# W = np.fft.fftfreq(wave1[3440:3560].size, d=time[1]-time[0])\n",
    "\n",
    "# cut_f_signal = f_signal.copy()\n",
    "# cut_f_signal[(W<0.7)] = 0.0\n",
    "# cut_f_signal[(W>1.7)] = 0.0\n",
    "# cut_signal = np.fft.ifft(cut_f_signal)\n",
    "\n",
    "# terms = 60\n",
    "# Y1 = np.fft.fft(wave1[3505:3560])\n",
    "# np.put(Y1, range(terms+1, len(wave1[3505:3560])), 0.0) # zero-ing coefficients above \"terms\"\n",
    "# y_Fourier_2 = np.fft.ifft(Y1)\n",
    "\n",
    "# x1 = np.arange(3440,3490)\n",
    "# x2 = np.arange(3505,3560)\n",
    "# x = np.arange(3440,3560)\n",
    "# plt.plot(x,wave1[3440:3560],label = 'wave')\n",
    "# plt.plot(x,cut_signal,label='cut')\n",
    "# plt.plot(x,wave1[3440:3560]-cut_signal,label='wave-cut')\n",
    "# # # plt.xlim(3440,3560)\n",
    "# # plt.ylim(-175,20)\n",
    "# # # plt.ylim(-17.5e7,20e7)\n",
    "# # # plt.plot(x,a1[0][3440:3560])\n",
    "# # plt.plot(x,wave_oscill(x,*par),label = 'func')\n",
    "# # plt.plot(x,oscill(x,*par1),label = 'sin')\n",
    "# # # plt.plot(x,wave_oscill(x,*par)+oscill(x,*par1),label = 'fun-sin')\n",
    "# # plt.plot(x,wave1[3505:3560]-y_Fourier_2,label = 'wave-sin')\n",
    "# # plt.plot(x1,y_Fourier_1)\n",
    "# # plt.plot(x2,y_Fourier_2)\n",
    "# # plt.plot(x,fourier(x,*params))\n",
    "\n",
    "# plt.legend()\n",
    "# plt.show()"
   ]
  },
  {
   "cell_type": "code",
   "execution_count": null,
   "id": "b42ac10b",
   "metadata": {},
   "outputs": [],
   "source": [
    "risetime(wave1,fit_mid=a1[1][4])"
   ]
  },
  {
   "cell_type": "code",
   "execution_count": null,
   "id": "9a706493",
   "metadata": {},
   "outputs": [],
   "source": [
    "# risetimeDistribution1 = []\n",
    "func, par = wave_fit(waves[0].compute(),wave_func,p0=[-5,5e-7,1e-10,-20,3500,10])\n",
    "risetime(waves[0].compute(),fit_mid=par[4],low=0.1, high=0.9)"
   ]
  },
  {
   "cell_type": "code",
   "execution_count": 15,
   "id": "706440a0",
   "metadata": {},
   "outputs": [
    {
     "name": "stdout",
     "output_type": "stream",
     "text": [
      "CPU times: user 23.6 s, sys: 110 ms, total: 23.7 s\n",
      "Wall time: 23.6 s\n"
     ]
    }
   ],
   "source": [
    "%%time \n",
    "\n",
    "risetimeDistribution1 = []\n",
    "# risetimeDistribution2 = []\n",
    "time_mid = []\n",
    "for i in range(len(waves)):\n",
    "    func, par = wave_fit(waves[i].compute(),wave_func,p0=[-5,5e-7,1e-10,-20,3500,10])\n",
    "    time_mid.append(par[4])\n",
    "    risetimeDistribution1.append(risetime(waves[i].compute(),par[4],low=0.1, high=0.9)[0])\n",
    "#     risetimeDistribution2.append(risetime(waves[i].compute(),par[4],low=0.2, high=0.8)[0])"
   ]
  },
  {
   "cell_type": "code",
   "execution_count": 16,
   "id": "ec613147",
   "metadata": {},
   "outputs": [
    {
     "name": "stdout",
     "output_type": "stream",
     "text": [
      "CPU times: user 36.1 s, sys: 1.85 s, total: 37.9 s\n",
      "Wall time: 14.3 s\n"
     ]
    }
   ],
   "source": [
    "%%time\n",
    "run.singleWaves().resetCuts()\n",
    "run.singleWaves().defineCut('pixel', '=', 87)\n",
    "\n",
    "results = run.singleWaves().determineEnergyTiming(method='trap', params=[1250, 50, 1250])\n",
    "\n",
    "results.resetCuts()\n",
    "results.defineCut('energy', 'between',585.2711969389492, 607.903407760068)\n",
    "cut = results.returnCut()\n",
    "run.singleWaves().defineCut('custom', cut)\n",
    "waves = run.singleWaves().waves()"
   ]
  },
  {
   "cell_type": "code",
   "execution_count": 17,
   "id": "e824f2df",
   "metadata": {},
   "outputs": [
    {
     "data": {
      "image/png": "[encoded data removed]",
      "text/plain": [
       "<Figure size 640x480 with 1 Axes>"
      ]
     },
     "metadata": {},
     "output_type": "display_data"
    }
   ],
   "source": [
    "results.resetCuts()\n",
    "plt.hist(results.data()['energy'],bins=np.arange(585.2711969389492, 607.903407760068))\n",
    "plt.hist(results.data()['energy'],bins=np.arange(500, 615),alpha=0.5)\n",
    "plt.show()"
   ]
  },
  {
   "cell_type": "code",
   "execution_count": 18,
   "id": "e3169bf9",
   "metadata": {},
   "outputs": [],
   "source": [
    "risetimeDistribution2 = []\n",
    "time_mid = []\n",
    "for i in range(len(waves)):\n",
    "    func, par = wave_fit(waves[i].compute(),wave_func,p0=[-5,5e-7,1e-10,-20,3500,10])\n",
    "    time_mid.append(par[4])\n",
    "    risetimeDistribution2.append(risetime(waves[i].compute(),par[4],low=0.1, high=0.9)[0])"
   ]
  },
  {
   "cell_type": "code",
   "execution_count": 19,
   "id": "b61164cb",
   "metadata": {},
   "outputs": [
    {
     "name": "stdout",
     "output_type": "stream",
     "text": [
      "CPU times: user 32.8 s, sys: 1.46 s, total: 34.3 s\n",
      "Wall time: 14 s\n"
     ]
    }
   ],
   "source": [
    "%%time\n",
    "run.singleWaves().resetCuts()\n",
    "run.singleWaves().defineCut('pixel', '=', 97)\n",
    "\n",
    "results = run.singleWaves().determineEnergyTiming(method='trap', params=[1250, 50, 1250])\n",
    "results.resetCuts()\n",
    "results.defineCut('energy', 'between',579.099661626211, 602.9766247659343)\n",
    "cut = results.returnCut()\n",
    "run.singleWaves().defineCut('custom', cut)\n",
    "waves = run.singleWaves().waves()"
   ]
  },
  {
   "cell_type": "code",
   "execution_count": 20,
   "id": "1ddfc217",
   "metadata": {},
   "outputs": [
    {
     "data": {
      "image/png": "[encoded data removed]",
      "text/plain": [
       "<Figure size 640x480 with 1 Axes>"
      ]
     },
     "metadata": {},
     "output_type": "display_data"
    }
   ],
   "source": [
    "results.resetCuts()\n",
    "plt.hist(results.data()['energy'],bins=np.arange(579.099661626211, 602.9766247659343))\n",
    "plt.hist(results.data()['energy'],bins=np.arange(500, 615),alpha=0.5)\n",
    "plt.show()"
   ]
  },
  {
   "cell_type": "code",
   "execution_count": 21,
   "id": "60e24bd4",
   "metadata": {
    "scrolled": false
   },
   "outputs": [
    {
     "data": {
      "text/plain": [
       "[<matplotlib.lines.Line2D at 0x2aac8b3ba6a0>]"
      ]
     },
     "execution_count": 21,
     "metadata": {},
     "output_type": "execute_result"
    },
    {
     "data": {
      "image/png": "[encoded data removed]",
      "text/plain": [
       "<Figure size 640x480 with 1 Axes>"
      ]
     },
     "metadata": {},
     "output_type": "display_data"
    }
   ],
   "source": [
    "x = np.arange(0,7000)\n",
    "plt.plot(waves[49])\n",
    "# plt.plot(x,func)"
   ]
  },
  {
   "cell_type": "code",
   "execution_count": 22,
   "id": "cf02c770",
   "metadata": {},
   "outputs": [
    {
     "name": "stdout",
     "output_type": "stream",
     "text": [
      "0\n",
      "1\n",
      "2\n",
      "3\n",
      "4\n",
      "5\n",
      "6\n",
      "7\n",
      "8\n",
      "9\n",
      "10\n",
      "11\n",
      "12\n",
      "13\n",
      "14\n",
      "15\n",
      "16\n",
      "17\n",
      "18\n",
      "19\n",
      "20\n",
      "21\n",
      "22\n",
      "23\n",
      "24\n",
      "25\n",
      "26\n",
      "27\n",
      "28\n",
      "29\n",
      "30\n",
      "31\n",
      "32\n",
      "33\n",
      "34\n",
      "35\n",
      "36\n",
      "37\n",
      "38\n",
      "39\n",
      "40\n",
      "41\n",
      "42\n",
      "43\n",
      "44\n",
      "45\n",
      "46\n",
      "47\n",
      "48\n",
      "49\n",
      "50\n",
      "51\n",
      "52\n",
      "53\n",
      "54\n",
      "55\n",
      "56\n",
      "57\n",
      "58\n",
      "59\n",
      "60\n",
      "61\n"
     ]
    },
    {
     "data": {
      "image/png": "[encoded data removed]",
      "text/plain": [
       "<Figure size 640x480 with 1 Axes>"
      ]
     },
     "metadata": {},
     "output_type": "display_data"
    },
    {
     "name": "stdout",
     "output_type": "stream",
     "text": [
      "62\n",
      "63\n",
      "64\n",
      "65\n",
      "66\n",
      "67\n",
      "68\n",
      "69\n",
      "70\n",
      "71\n",
      "72\n",
      "73\n",
      "74\n",
      "75\n",
      "76\n",
      "77\n",
      "78\n",
      "79\n",
      "80\n",
      "81\n",
      "82\n",
      "83\n",
      "84\n",
      "85\n",
      "86\n",
      "87\n",
      "88\n",
      "89\n",
      "90\n",
      "91\n",
      "92\n",
      "93\n",
      "94\n",
      "95\n",
      "96\n",
      "97\n",
      "98\n",
      "99\n",
      "100\n",
      "101\n",
      "102\n",
      "103\n",
      "104\n",
      "105\n",
      "106\n",
      "107\n",
      "108\n",
      "109\n",
      "110\n",
      "111\n",
      "112\n",
      "113\n",
      "114\n",
      "115\n",
      "116\n",
      "117\n",
      "118\n",
      "119\n",
      "120\n",
      "121\n",
      "122\n",
      "123\n",
      "124\n",
      "125\n",
      "126\n",
      "127\n",
      "128\n",
      "129\n",
      "130\n",
      "131\n",
      "132\n",
      "133\n",
      "134\n",
      "135\n",
      "136\n",
      "137\n",
      "138\n",
      "139\n",
      "140\n",
      "141\n",
      "142\n",
      "143\n",
      "144\n",
      "145\n",
      "146\n",
      "147\n",
      "148\n",
      "149\n",
      "150\n",
      "151\n",
      "152\n",
      "153\n",
      "154\n",
      "155\n",
      "156\n",
      "157\n",
      "158\n",
      "159\n",
      "160\n",
      "161\n",
      "162\n",
      "163\n",
      "164\n",
      "165\n",
      "166\n",
      "167\n",
      "168\n",
      "169\n",
      "170\n",
      "171\n",
      "172\n",
      "173\n",
      "174\n",
      "175\n",
      "176\n",
      "177\n",
      "178\n",
      "179\n",
      "180\n",
      "181\n",
      "182\n",
      "183\n",
      "184\n",
      "185\n",
      "186\n",
      "187\n",
      "188\n",
      "189\n",
      "190\n",
      "191\n",
      "192\n",
      "193\n",
      "194\n",
      "195\n",
      "196\n",
      "197\n",
      "198\n",
      "199\n",
      "200\n",
      "201\n",
      "202\n",
      "203\n",
      "204\n",
      "205\n",
      "206\n",
      "207\n",
      "208\n",
      "209\n",
      "210\n",
      "211\n",
      "212\n",
      "213\n",
      "214\n",
      "215\n",
      "216\n",
      "217\n",
      "218\n",
      "219\n",
      "220\n",
      "221\n",
      "222\n",
      "223\n",
      "224\n",
      "225\n",
      "226\n",
      "227\n",
      "228\n",
      "229\n",
      "230\n",
      "231\n",
      "232\n",
      "233\n",
      "234\n",
      "235\n",
      "236\n",
      "237\n",
      "238\n",
      "239\n",
      "240\n",
      "241\n",
      "242\n",
      "243\n",
      "244\n",
      "245\n",
      "246\n",
      "247\n",
      "248\n",
      "249\n",
      "250\n",
      "251\n",
      "252\n",
      "253\n",
      "254\n",
      "255\n",
      "256\n",
      "257\n",
      "258\n",
      "259\n",
      "260\n",
      "261\n",
      "262\n",
      "263\n",
      "264\n",
      "265\n",
      "266\n",
      "267\n",
      "268\n",
      "269\n",
      "270\n",
      "271\n",
      "272\n",
      "273\n",
      "274\n",
      "275\n",
      "276\n",
      "277\n",
      "278\n",
      "279\n",
      "280\n",
      "281\n",
      "282\n",
      "283\n",
      "284\n",
      "285\n",
      "286\n",
      "287\n",
      "288\n",
      "289\n",
      "290\n",
      "291\n",
      "292\n",
      "293\n",
      "294\n",
      "295\n",
      "296\n",
      "297\n",
      "298\n",
      "299\n",
      "300\n",
      "301\n",
      "302\n",
      "303\n",
      "304\n",
      "305\n",
      "306\n",
      "307\n",
      "308\n",
      "309\n",
      "310\n",
      "311\n",
      "312\n",
      "313\n",
      "314\n",
      "315\n",
      "316\n",
      "317\n",
      "318\n",
      "319\n",
      "320\n",
      "321\n",
      "322\n",
      "323\n",
      "324\n",
      "325\n",
      "326\n",
      "327\n",
      "328\n",
      "329\n",
      "330\n",
      "331\n",
      "332\n",
      "333\n",
      "334\n",
      "335\n",
      "336\n",
      "337\n",
      "338\n",
      "339\n",
      "340\n",
      "341\n",
      "342\n",
      "343\n",
      "344\n",
      "345\n",
      "346\n",
      "347\n",
      "348\n",
      "349\n",
      "350\n",
      "351\n",
      "352\n",
      "353\n",
      "354\n",
      "355\n",
      "356\n",
      "357\n",
      "358\n",
      "359\n",
      "360\n",
      "361\n",
      "362\n",
      "363\n",
      "364\n",
      "365\n",
      "366\n",
      "367\n",
      "368\n",
      "369\n",
      "370\n",
      "371\n",
      "372\n",
      "373\n",
      "374\n",
      "375\n",
      "376\n",
      "377\n",
      "378\n",
      "379\n",
      "380\n",
      "381\n",
      "382\n",
      "383\n",
      "384\n",
      "385\n",
      "386\n",
      "387\n",
      "388\n",
      "389\n",
      "390\n",
      "391\n",
      "392\n",
      "393\n",
      "394\n",
      "395\n",
      "396\n",
      "397\n",
      "398\n",
      "399\n",
      "400\n",
      "401\n",
      "402\n",
      "403\n",
      "404\n",
      "405\n",
      "406\n",
      "407\n",
      "408\n",
      "409\n",
      "410\n",
      "411\n",
      "412\n",
      "413\n",
      "414\n",
      "415\n",
      "416\n",
      "417\n",
      "418\n",
      "419\n",
      "420\n",
      "421\n",
      "422\n",
      "423\n",
      "424\n",
      "425\n",
      "426\n",
      "427\n",
      "428\n",
      "429\n",
      "430\n",
      "431\n",
      "432\n",
      "433\n",
      "434\n",
      "435\n",
      "436\n",
      "437\n",
      "438\n",
      "439\n",
      "440\n",
      "441\n",
      "442\n",
      "443\n",
      "444\n",
      "445\n",
      "446\n",
      "447\n",
      "448\n",
      "449\n",
      "450\n",
      "451\n",
      "452\n",
      "453\n",
      "454\n",
      "455\n",
      "456\n",
      "457\n",
      "458\n",
      "459\n",
      "460\n",
      "461\n",
      "462\n",
      "463\n",
      "464\n",
      "465\n",
      "466\n",
      "467\n",
      "468\n",
      "469\n",
      "470\n",
      "471\n",
      "472\n",
      "473\n",
      "474\n",
      "475\n",
      "476\n",
      "477\n",
      "478\n",
      "479\n",
      "480\n",
      "481\n",
      "482\n",
      "483\n",
      "484\n",
      "485\n",
      "486\n",
      "487\n",
      "488\n",
      "489\n",
      "490\n",
      "491\n",
      "492\n",
      "493\n",
      "494\n",
      "495\n",
      "496\n",
      "497\n",
      "498\n",
      "499\n",
      "500\n",
      "501\n",
      "502\n",
      "503\n",
      "504\n",
      "505\n",
      "506\n",
      "507\n",
      "508\n",
      "509\n",
      "510\n",
      "511\n",
      "512\n",
      "513\n",
      "514\n",
      "515\n",
      "516\n",
      "517\n",
      "518\n",
      "519\n",
      "520\n",
      "521\n",
      "522\n"
     ]
    }
   ],
   "source": [
    "risetimeDistribution3 = []\n",
    "time_mid = []\n",
    "for i in range(len(waves)):\n",
    "    func, par = wave_fit(waves[i].compute(),wave_func,p0=[-5,5e-7,1e-10,-20,3500,10])\n",
    "    print(i)\n",
    "    time_mid.append(par[4])\n",
    "    risetimeDistribution3.append(risetime(waves[i].compute(),par[4],low=0.1, high=0.9)[0])"
   ]
  },
  {
   "cell_type": "code",
   "execution_count": 23,
   "id": "924fca82",
   "metadata": {},
   "outputs": [
    {
     "name": "stdout",
     "output_type": "stream",
     "text": [
      "CPU times: user 27.7 s, sys: 5.67 s, total: 33.3 s\n",
      "Wall time: 13.5 s\n"
     ]
    }
   ],
   "source": [
    "%%time\n",
    "run.singleWaves().resetCuts()\n",
    "run.singleWaves().defineCut('pixel', '=', 106)\n",
    "\n",
    "results = run.singleWaves().determineEnergyTiming(method='trap', params=[1250, 50, 1250])\n",
    "results.resetCuts()\n",
    "results.defineCut('energy', 'between',583.9355455499498, 607.6484163182787)\n",
    "cut = results.returnCut()\n",
    "run.singleWaves().defineCut('custom', cut)\n",
    "waves = run.singleWaves().waves()"
   ]
  },
  {
   "cell_type": "code",
   "execution_count": 24,
   "id": "20b543a0",
   "metadata": {},
   "outputs": [
    {
     "data": {
      "image/png": "[encoded data removed]",
      "text/plain": [
       "<Figure size 640x480 with 1 Axes>"
      ]
     },
     "metadata": {},
     "output_type": "display_data"
    }
   ],
   "source": [
    "results.resetCuts()\n",
    "plt.hist(results.data()['energy'],bins=np.arange(585.2711969389492, 607.903407760068))\n",
    "plt.hist(results.data()['energy'],bins=np.arange(500, 615),alpha=0.5)\n",
    "plt.show()"
   ]
  },
  {
   "cell_type": "code",
   "execution_count": 25,
   "id": "e58858c9",
   "metadata": {},
   "outputs": [
    {
     "data": {
      "text/plain": [
       "410"
      ]
     },
     "execution_count": 25,
     "metadata": {},
     "output_type": "execute_result"
    }
   ],
   "source": [
    "len(waves)"
   ]
  },
  {
   "cell_type": "code",
   "execution_count": 26,
   "id": "e6d9c000",
   "metadata": {},
   "outputs": [
    {
     "data": {
      "image/png": "[encoded data removed]",
      "text/plain": [
       "<Figure size 640x480 with 1 Axes>"
      ]
     },
     "metadata": {},
     "output_type": "display_data"
    }
   ],
   "source": [
    "risetimeDistribution4 = []\n",
    "time_mid = []\n",
    "for i in range(len(waves)):\n",
    "    func, par = wave_fit(waves[i].compute(),wave_func,p0=[-5,5e-7,1e-10,-20,3500,10])\n",
    "    if type(par)==int:\n",
    "        pass\n",
    "    else:\n",
    "        time_mid.append(par[4])\n",
    "        risetimeDistribution4.append(risetime(waves[i].compute(),par[4],low=0.1, high=0.9)[0])"
   ]
  },
  {
   "cell_type": "code",
   "execution_count": 27,
   "id": "4d31b9f0",
   "metadata": {},
   "outputs": [
    {
     "name": "stdout",
     "output_type": "stream",
     "text": [
      "CPU times: user 23.7 s, sys: 1.17 s, total: 24.9 s\n",
      "Wall time: 12.7 s\n"
     ]
    }
   ],
   "source": [
    "%%time\n",
    "run.singleWaves().resetCuts()\n",
    "run.singleWaves().defineCut('pixel', '=', 114)\n",
    "\n",
    "results = run.singleWaves().determineEnergyTiming(method='trap', params=[1250, 50, 1250])\n",
    "results.resetCuts()\n",
    "results.defineCut('energy', 'between',587.4604992517244, 610.4579891300249)\n",
    "cut = results.returnCut()\n",
    "run.singleWaves().defineCut('custom', cut)\n",
    "waves = run.singleWaves().waves()"
   ]
  },
  {
   "cell_type": "code",
   "execution_count": 28,
   "id": "41a7b4bb",
   "metadata": {},
   "outputs": [
    {
     "data": {
      "image/png": "[encoded data removed]",
      "text/plain": [
       "<Figure size 640x480 with 1 Axes>"
      ]
     },
     "metadata": {},
     "output_type": "display_data"
    }
   ],
   "source": [
    "results.resetCuts()\n",
    "plt.hist(results.data()['energy'],bins=np.arange(585.2711969389492, 607.903407760068))\n",
    "plt.hist(results.data()['energy'],bins=np.arange(500, 615),alpha=0.5)\n",
    "plt.show()"
   ]
  },
  {
   "cell_type": "code",
   "execution_count": 29,
   "id": "e97ec9c7",
   "metadata": {},
   "outputs": [],
   "source": [
    "risetimeDistribution5 = []\n",
    "time_mid = []\n",
    "for i in range(len(waves)):\n",
    "    func, par = wave_fit(waves[i].compute(),wave_func,p0=[-5,5e-7,1e-10,-20,3500,10])\n",
    "    if type(par)==int:\n",
    "        pass\n",
    "    else:\n",
    "        time_mid.append(par[4])\n",
    "        risetimeDistribution5.append(risetime(waves[i].compute(),par[4],low=0.1, high=0.9)[0])"
   ]
  },
  {
   "cell_type": "code",
   "execution_count": 30,
   "id": "d6107c22",
   "metadata": {},
   "outputs": [
    {
     "data": {
      "image/png": "[encoded data removed]",
      "text/plain": [
       "<Figure size 640x480 with 1 Axes>"
      ]
     },
     "metadata": {},
     "output_type": "display_data"
    }
   ],
   "source": [
    "plt.hist(risetimeDistribution1,bins = np.arange(0,60),label = '76 %.2f'%np.mean(risetimeDistribution1),histtype='step')\n",
    "plt.hist(risetimeDistribution2,bins = np.arange(0,60),label = '87 %.2f'%np.mean(risetimeDistribution2),histtype='step')\n",
    "plt.hist(risetimeDistribution3,bins = np.arange(0,60),label = '97 %.2f'%np.mean(risetimeDistribution3),histtype='step')\n",
    "plt.hist(risetimeDistribution4,bins = np.arange(0,60),label = '106 %.2f'%np.mean(risetimeDistribution4),histtype='step')\n",
    "plt.hist(risetimeDistribution5,bins = np.arange(0,60),label = '114%.2f'%np.mean(risetimeDistribution5),histtype='step')\n",
    "plt.legend()\n",
    "plt.show()"
   ]
  },
  {
   "cell_type": "code",
   "execution_count": 73,
   "id": "c3e2ee60",
   "metadata": {},
   "outputs": [
    {
     "data": {
      "text/plain": [
       "np.float64(31.344265553062232)"
      ]
     },
     "execution_count": 73,
     "metadata": {},
     "output_type": "execute_result"
    }
   ],
   "source": [
    "np.mean(risetimeDistribution1)"
   ]
  },
  {
   "cell_type": "code",
   "execution_count": null,
   "id": "5c4de332",
   "metadata": {},
   "outputs": [],
   "source": []
  },
  {
   "cell_type": "code",
   "execution_count": null,
   "id": "f79e0b0b",
   "metadata": {},
   "outputs": [],
   "source": []
  }
 ],
 "metadata": {
  "kernelspec": {
   "display_name": "pynab_kernel",
   "language": "python",
   "name": "pynab_kernel"
  },
  "language_info": {
   "codemirror_mode": {
    "name": "ipython",
    "version": 3
   },
   "file_extension": ".py",
   "mimetype": "text/x-python",
   "name": "python",
   "nbconvert_exporter": "python",
   "pygments_lexer": "ipython3",
   "version": "3.9.12"
  }
 },
 "nbformat": 4,
 "nbformat_minor": 5
}
